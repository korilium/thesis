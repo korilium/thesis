{
 "cells": [
  {
   "cell_type": "markdown",
   "source": [
    "# Appendix "
   ],
   "metadata": {}
  },
  {
   "cell_type": "markdown",
   "source": [
    "## pseudocode algorithms  "
   ],
   "metadata": {}
  },
  {
   "cell_type": "markdown",
   "source": [
    "\r\n",
    "![Research fields involved in Reinforcement learning](policy_iteration.png)\r\n"
   ],
   "metadata": {}
  },
  {
   "cell_type": "markdown",
   "source": [
    "![Research fields involved in Reinforcement learning](value_iteration.png)"
   ],
   "metadata": {}
  }
 ],
 "metadata": {
  "orig_nbformat": 4,
  "language_info": {
   "name": "julia"
  }
 },
 "nbformat": 4,
 "nbformat_minor": 2
}