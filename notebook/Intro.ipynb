{
 "cells": [
  {
   "cell_type": "markdown",
   "source": [
    "# Introduction Notebook of optimal control for consumers "
   ],
   "metadata": {}
  },
  {
   "cell_type": "markdown",
   "source": [
    "This is the jupyter notebook of optimal control for consumers. To read the paper please go to full_thesis. This book is specifically written to investigate possible new solution for financial planning tools. Most tools of today lack sufficient theoritical background or are used for commercial purposes. This notebook will try to find better and more comprehensive fields in which financial tools can be better tailored to the consumer. "
   ],
   "metadata": {}
  }
 ],
 "metadata": {
  "kernelspec": {
   "display_name": "Julia 1.5.3",
   "language": "julia",
   "name": "julia-1.5"
  },
  "language_info": {
   "file_extension": ".jl",
   "mimetype": "application/julia",
   "name": "julia",
   "version": "1.5.3"
  }
 },
 "nbformat": 4,
 "nbformat_minor": 4
}