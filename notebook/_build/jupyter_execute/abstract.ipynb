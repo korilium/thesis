{
 "cells": [
  {
   "cell_type": "markdown",
   "metadata": {},
   "source": [
    "# Abstract"
   ]
  },
  {
   "cell_type": "markdown",
   "metadata": {},
   "source": [
    "This paper is  written to investigate possible new solution for financial planning tools. Most tools of today lack sufficient theoritical background or are used for commercial purposes. The goal is to try and find better and more comprehensive fields in which financial tools can be better tailored to the consumer. More specifically the recent coöperation between reinforcement learning and planning domains like optimal control will be more closely looked at.  "
   ]
  }
 ],
 "metadata": {
  "kernelspec": {
   "display_name": "Julia 1.5.3",
   "language": "julia",
   "name": "julia-1.5"
  },
  "language_info": {
   "file_extension": ".jl",
   "mimetype": "application/julia",
   "name": "julia",
   "version": "1.5.3"
  }
 },
 "nbformat": 4,
 "nbformat_minor": 4
}