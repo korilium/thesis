{
 "cells": [
  {
   "cell_type": "markdown",
   "source": [
    "# Index "
   ],
   "metadata": {}
  },
  {
   "cell_type": "markdown",
   "source": [
    "```{tableofcontents}\r\n",
    "```"
   ],
   "metadata": {}
  }
 ],
 "metadata": {
  "orig_nbformat": 4,
  "language_info": {
   "name": "python"
  }
 },
 "nbformat": 4,
 "nbformat_minor": 2
}