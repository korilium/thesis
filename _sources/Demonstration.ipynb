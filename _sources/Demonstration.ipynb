{
 "cells": [
  {
   "cell_type": "markdown",
   "source": [
    "## Demonstration\n",
    "\n",
    "The purpose of this notebook is to demonstrate the use of G-learning with quadratic rewards for optimization of a defined contribution retirement plan. The demonstration is from {cite}`DixonMatthewF2020MLiF`. "
   ],
   "metadata": {
    "colab_type": "text",
    "id": "uXdeHDmEPQM6"
   }
  },
  {
   "cell_type": "code",
   "execution_count": 152,
   "source": [
    "import numpy as np\n",
    "import pandas as pd \n",
    "import matplotlib.pyplot as plt \n",
    "import plotly.graph_objects as go \n",
    "%matplotlib inline\n",
    "import time\n",
    "from scipy.optimize import minimize\n",
    "import torch\n",
    "import torch.optim as optim\n",
    "import warnings\n",
    "warnings.filterwarnings('ignore')\n",
    "%env KMP_DUPLICATE_LIB_OK=TRUE\n",
    "# set the device\n",
    "device = 'cuda' if torch.cuda.is_available() else 'cpu'"
   ],
   "outputs": [
    {
     "output_type": "stream",
     "name": "stdout",
     "text": [
      "env: KMP_DUPLICATE_LIB_OK=TRUE\n"
     ]
    }
   ],
   "metadata": {
    "colab": {},
    "colab_type": "code",
    "id": "vOoE16hWPQNC"
   }
  },
  {
   "cell_type": "code",
   "execution_count": 153,
   "source": [
    "# Define the G-learning portfolio optimization class\r\n",
    "class G_learning_portfolio_opt:\r\n",
    "    \r\n",
    "    def __init__(self, \r\n",
    "                 num_steps,\r\n",
    "                 params,\r\n",
    "                 beta,\r\n",
    "                 benchmark_portf,\r\n",
    "                 gamma, \r\n",
    "                 num_risky_assets,\r\n",
    "                 riskfree_rate,\r\n",
    "                 exp_returns, # array of shape num_steps x num_stocks\r\n",
    "                 Sigma_r,     # covariance matrix of returns of risky assets\r\n",
    "                 init_x_vals, # array of initial asset position values (num_risky_assets + 1)\r\n",
    "                 use_for_WM = True): # use for wealth management tasks\r\n",
    "\r\n",
    "                \r\n",
    "        self.num_steps = num_steps\r\n",
    "        self.num_assets = num_risky_assets + 1 \r\n",
    "        \r\n",
    "        self.lambd = torch.tensor(params[0], requires_grad=False, dtype=torch.float64)\r\n",
    "        self.Omega_mat = params[1] * torch.eye(self.num_assets,dtype=torch.float64)\r\n",
    "        self.eta = torch.tensor(params[2], requires_grad=False, dtype=torch.float64)\r\n",
    "        self.rho = torch.tensor(params[3], requires_grad=False, dtype=torch.float64)\r\n",
    "        self.beta = torch.tensor(beta, requires_grad=False, dtype=torch.float64)\r\n",
    "        \r\n",
    "        self.gamma = gamma\r\n",
    "        self.use_for_WM = use_for_WM\r\n",
    "        \r\n",
    "        self.num_risky_assets = num_risky_assets\r\n",
    "        self.r_f = riskfree_rate\r\n",
    "        \r\n",
    "        \r\n",
    "        assert exp_returns.shape[0] == self.num_steps\r\n",
    "        assert Sigma_r.shape[0] == Sigma_r.shape[1]\r\n",
    "        assert Sigma_r.shape[0] == num_risky_assets # self.num_assets\r\n",
    "        \r\n",
    "        self.Sigma_r_np = Sigma_r # array of shape num_stocks x num_stocks\r\n",
    "        \r\n",
    "        self.reg_mat = 1e-3*torch.eye(self.num_assets, dtype=torch.float64)\r\n",
    "        \r\n",
    "        # arrays of returns for all assets including the risk-free asset\r\n",
    "        # array of shape num_steps x (num_stocks + 1) \r\n",
    "        self.exp_returns_np = np.hstack((self.r_f * np.ones(self.num_steps).reshape((-1,1)), exp_returns))\r\n",
    "                                      \r\n",
    "        # make block-matrix Sigma_r_tilde with Sigma_r_tilde[0,0] = 0, and equity correlation matrix inside\r\n",
    "        self.Sigma_r_tilde_np = np.zeros((self.num_assets, self.num_assets))\r\n",
    "        self.Sigma_r_tilde_np[1:,1:] = self.Sigma_r_np\r\n",
    "            \r\n",
    "        # make Torch tensors  \r\n",
    "        self.exp_returns = torch.tensor(self.exp_returns_np,requires_grad=False, dtype=torch.float64)\r\n",
    "        self.Sigma_r = torch.tensor(Sigma_r,requires_grad=False, dtype=torch.float64)\r\n",
    "        self.Sigma_r_tilde = torch.tensor(self.Sigma_r_tilde_np,requires_grad=False, dtype=torch.float64)\r\n",
    "        \r\n",
    "        self.benchmark_portf = torch.tensor(benchmark_portf, requires_grad=False, dtype=torch.float64)\r\n",
    "        \r\n",
    "        # asset holding values for all times. Initialize with initial values, \r\n",
    "        # values for the future times will be expected values \r\n",
    "        self.x_vals_np = np.zeros((self.num_steps, self.num_assets))\r\n",
    "        self.x_vals_np[0,:] = init_x_vals \r\n",
    "        \r\n",
    "        # Torch tensor\r\n",
    "        self.x_vals = torch.tensor(self.x_vals_np)\r\n",
    "                \r\n",
    "        # allocate memory for coefficients of R-, F- and G-functions        \r\n",
    "        self.F_xx = torch.zeros(self.num_steps, self.num_assets, self.num_assets, dtype=torch.float64,\r\n",
    "                                requires_grad=True)\r\n",
    "        self.F_x = torch.zeros(self.num_steps, self.num_assets, dtype=torch.float64,\r\n",
    "                               requires_grad=True)\r\n",
    "        self.F_0 = torch.zeros(self.num_steps,dtype=torch.float64,requires_grad=True)\r\n",
    "        \r\n",
    "        self.Q_xx = torch.zeros(self.num_steps, self.num_assets, self.num_assets,dtype=torch.float64,\r\n",
    "                                requires_grad=True)\r\n",
    "        self.Q_uu = torch.zeros(self.num_steps, self.num_assets, self.num_assets,dtype=torch.float64,\r\n",
    "                                requires_grad=True)\r\n",
    "        self.Q_ux = torch.zeros(self.num_steps, self.num_assets, self.num_assets,dtype=torch.float64,\r\n",
    "                                requires_grad=True)\r\n",
    "        self.Q_x = torch.zeros(self.num_steps, self.num_assets,dtype=torch.float64,requires_grad=True)\r\n",
    "        self.Q_u = torch.zeros(self.num_steps, self.num_assets,dtype=torch.float64,requires_grad=True)\r\n",
    "        self.Q_0 = torch.zeros(self.num_steps,dtype=torch.float64,requires_grad=True)\r\n",
    "        \r\n",
    "        self.R_xx = torch.zeros(self.num_steps, self.num_assets, self.num_assets,dtype=torch.float64,\r\n",
    "                                requires_grad=True)\r\n",
    "        self.R_uu = torch.zeros(self.num_steps, self.num_assets, self.num_assets,dtype=torch.float64,\r\n",
    "                                requires_grad=True)\r\n",
    "        self.R_ux = torch.zeros(self.num_steps, self.num_assets, self.num_assets,dtype=torch.float64,\r\n",
    "                                requires_grad=True)\r\n",
    "        self.R_x = torch.zeros(self.num_steps, self.num_assets,dtype=torch.float64,requires_grad=True)\r\n",
    "        self.R_u = torch.zeros(self.num_steps, self.num_assets,dtype=torch.float64,requires_grad=True)\r\n",
    "        self.R_0 = torch.zeros(self.num_steps,dtype=torch.float64,requires_grad=True)\r\n",
    "\r\n",
    "        \r\n",
    "        self.reset_prior_policy()\r\n",
    "        \r\n",
    "        # the list of adjustable model parameters:\r\n",
    "        self.model_params = [self.lambd, self.beta, self.Omega_mat, self.eta]         \r\n",
    "        \r\n",
    "        # expected cash installment for all steps\r\n",
    "        self.expected_c_t = torch.zeros(self.num_steps,dtype=torch.float64)\r\n",
    "        \r\n",
    "        # realized values of the target portfolio\r\n",
    "        self.realized_target_portf = np.zeros(self.num_steps,dtype=np.float64)\r\n",
    "        \r\n",
    "        # expected portfolio values for all times\r\n",
    "        self.expected_portf_val = torch.zeros(self.num_steps,dtype=torch.float64)\r\n",
    "        \r\n",
    "        # the first value is the sum of initial position values\r\n",
    "        self.expected_portf_val[0] = self.x_vals[0,:].sum()\r\n",
    "\r\n",
    "    def reset_prior_policy(self):\r\n",
    "        # initialize time-dependent parameters of prior policy \r\n",
    "        self.u_bar_prior = torch.zeros(self.num_steps,self.num_assets,requires_grad=False,\r\n",
    "                                       dtype=torch.float64)\r\n",
    "        self.v_bar_prior =  torch.zeros(self.num_steps, self.num_assets, self.num_assets,requires_grad=False,\r\n",
    "                                        dtype=torch.float64)\r\n",
    "        self.Sigma_prior =  torch.zeros(self.num_steps, self.num_assets, self.num_assets,requires_grad=False,\r\n",
    "                                        dtype=torch.float64)\r\n",
    "        self.Sigma_prior_inv = torch.zeros(self.num_steps, self.num_assets, self.num_assets,requires_grad=False,\r\n",
    "                                        dtype=torch.float64)\r\n",
    "        \r\n",
    "        # make each time elements of v_bar_prior and Sigma_prior proportional to the unit matrix\r\n",
    "        for t in range(self.num_steps):\r\n",
    "            self.v_bar_prior[t,:,:] = 0.1 * torch.eye(self.num_assets).clone()\r\n",
    "            self.Sigma_prior[t,:,:] = 0.1 * torch.eye(self.num_assets).clone()\r\n",
    "            self.Sigma_prior_inv[t,:,:] = 10.0 * torch.eye(self.num_assets).clone() # np.linalg.inv(self.Sigma_prior[t,:,:])\r\n",
    "    \r\n",
    "    def reward_fun(self, t, x_vals, u_vals, exp_rets, lambd, Sigma_hat):\r\n",
    "        \"\"\"\r\n",
    "        The reward function \r\n",
    "        \"\"\"\r\n",
    "        x_plus = x_vals + u_vals\r\n",
    "        \r\n",
    "        p_hat = self.rho.clone() * self.benchmark_portf[t] + (1-self.rho.clone())*self.eta.clone()*x_vals.sum()\r\n",
    "        \r\n",
    "        aux_1 = - self.lambd.clone() * p_hat**2         \r\n",
    "        aux_2 = - u_vals.sum()   \r\n",
    "        aux_3 = 2*self.lambd.clone() * p_hat * x_plus.dot(torch.ones(num_assets) + exp_rets)\r\n",
    "        aux_4 = - self.lambd.clone() * x_plus.mm(Sigma_hat.mv(x_plus))\r\n",
    "        aux_5 = - u_vals.mm(self.Omega_mat.clone().mv(u_vals))\r\n",
    "        \r\n",
    "        return aux_1 + aux_2 + aux_3 + aux_4 + aux_5  \r\n",
    "    \r\n",
    "    def compute_reward_fun(self):\r\n",
    "        \"\"\"\r\n",
    "        Compute coefficients R_xx, R_ux, etc. for all steps\r\n",
    "        \"\"\"\r\n",
    "        for t in range(0, self.num_steps):\r\n",
    "            \r\n",
    "            one_plus_exp_ret = torch.ones(self.num_assets,dtype=torch.float64) + self.exp_returns[t,:]\r\n",
    "            benchmark_portf = self.benchmark_portf[t]\r\n",
    "            Sigma_hat = self.Sigma_r_tilde + torch.ger(one_plus_exp_ret, one_plus_exp_ret)\r\n",
    "            \r\n",
    "            one_plus_exp_ret_by_one = torch.ger(one_plus_exp_ret,torch.ones(self.num_assets,dtype=torch.float64))\r\n",
    "            one_plus_exp_ret_by_one_T = one_plus_exp_ret_by_one.t()     \r\n",
    "            one_one_T_mat = torch.ones(self.num_assets,self.num_assets)\r\n",
    "            \r\n",
    "            self.R_xx[t,:,:] = (-self.lambd.clone()*(self.eta.clone()**2)*(self.rho.clone()**2)*one_one_T_mat\r\n",
    "                                 + 2*self.lambd.clone()*self.eta.clone()*self.rho.clone()*one_plus_exp_ret_by_one\r\n",
    "                                 - self.lambd.clone()*Sigma_hat)\r\n",
    "            \r\n",
    "            self.R_ux[t,:,:] = (2*self.lambd.clone()*self.eta.clone()*self.rho.clone()*one_plus_exp_ret_by_one\r\n",
    "                                 - 2*self.lambd.clone()*Sigma_hat)\r\n",
    "            \r\n",
    "            self.R_uu[t,:,:] = - self.lambd.clone() * Sigma_hat - self.Omega_mat.clone()\r\n",
    "            \r\n",
    "            self.R_x[t,:] =  (-2*self.lambd.clone()*self.eta.clone()*self.rho.clone()*(1-self.rho.clone())*benchmark_portf *\r\n",
    "                                 torch.ones(self.num_assets,dtype=torch.float64)\r\n",
    "                                 + 2*self.lambd.clone()*(1-self.rho.clone())*benchmark_portf * one_plus_exp_ret)\r\n",
    "            \r\n",
    "            self.R_u[t,:] = (2*self.lambd.clone()*(1-self.rho.clone())*benchmark_portf * one_plus_exp_ret\r\n",
    "                             - torch.ones(self.num_assets,dtype=torch.float64))\r\n",
    "            \r\n",
    "            self.R_0[t] = - self.lambd.clone()*((1-self.rho.clone())**2) * (benchmark_portf**2)\r\n",
    "                \r\n",
    "         \r\n",
    "    def project_cash_injections(self):\r\n",
    "        \"\"\"\r\n",
    "        Compute the expected values of future asset positions, and the expected cash injection for future steps,\r\n",
    "        as well as realized values of the target portfolio\r\n",
    "        \"\"\"\r\n",
    "           \r\n",
    "        # this assumes that the policy is trained\r\n",
    "        for t in range(1, self.num_steps):  # the initial value is fixed \r\n",
    "            # increment the previous x_t\r\n",
    "            delta_x_t = self.u_bar_prior[t,:] + self.v_bar_prior[t,:,:].mv(self.x_vals[t-1,:])\r\n",
    "            self.x_vals[t,:] = self.x_vals[t-1,:] + delta_x_t\r\n",
    "            \r\n",
    "            # grow using the expected return\r\n",
    "            self.x_vals[t,:] = (torch.ones(self.num_assets)+ self.exp_returns[t,:])*self.x_vals[t,:]\r\n",
    "            \r\n",
    "            # compute c_t\r\n",
    "            self.expected_c_t[t] = delta_x_t.sum().data # detach().numpy()\r\n",
    "            \r\n",
    "            # expected portfolio value for this step\r\n",
    "            self.expected_portf_val[t] = self.x_vals[t,:].sum().data # .detach().numpy()\r\n",
    "                                                                                      \r\n",
    "    def set_terminal_conditions(self):\r\n",
    "        \"\"\"\r\n",
    "        set the terminal condition for the F-function\r\n",
    "        \"\"\"\r\n",
    "        \r\n",
    "        # the auxiliary quantity to perform matrix calculations\r\n",
    "        one_plus_exp_ret = torch.ones(self.num_assets,dtype=torch.float64) + self.exp_returns[-1,:]\r\n",
    "        \r\n",
    "        # Compute the reward function for all steps (only the last step is needed for this functions, while \r\n",
    "        # values for other time steps will be used in other functions)\r\n",
    "        self.compute_reward_fun()\r\n",
    "        \r\n",
    "        if self.use_for_WM:\r\n",
    "            Sigma_hat = self.Sigma_r_tilde + torch.ger(one_plus_exp_ret, one_plus_exp_ret)\r\n",
    "            Sigma_hat_inv = torch.inverse(Sigma_hat + self.reg_mat)\r\n",
    "            \r\n",
    "            Sigma_tilde = Sigma_hat + (1/self.lambd)*self.Omega_mat.clone()\r\n",
    "            Sigma_tilde_inv = torch.inverse(Sigma_tilde + self.reg_mat)\r\n",
    "            \r\n",
    "            Sigma_hat_sigma_tilde = Sigma_hat.mm(Sigma_tilde)\r\n",
    "            Sigma_tilde_inv_sig_hat = Sigma_tilde_inv.mm(Sigma_hat)\r\n",
    "            Sigma_tilde_sigma_hat = Sigma_tilde.mm(Sigma_hat)\r\n",
    "            \r\n",
    "            Sigma_hat_Sigma_tilde_inv = Sigma_hat.mm(Sigma_tilde_inv)\r\n",
    "            Sigma_3_plus_omega = self.lambd*Sigma_tilde_inv.mm(Sigma_hat_Sigma_tilde_inv) + self.Omega_mat.clone()    \r\n",
    "                             \r\n",
    "            one_plus_exp_ret_by_one = torch.ger(one_plus_exp_ret,torch.ones(self.num_assets,dtype=torch.float64))\r\n",
    "            one_plus_exp_ret_by_one_T = one_plus_exp_ret_by_one.t()     \r\n",
    "            one_one_T_mat = torch.ones(self.num_assets,self.num_assets)\r\n",
    "            \r\n",
    "            Sigma_tilde_inv_t_R_ux = Sigma_tilde_inv.t().mm(self.R_ux[-1,:,:].clone())\r\n",
    "            Sigma_tilde_inv_t_R_uu = Sigma_tilde_inv.t().mm(self.R_uu[-1,:,:].clone())\r\n",
    "            Sigma_tilde_inv_t_R_u = Sigma_tilde_inv.t().mv(self.R_u[-1,:].clone())\r\n",
    "            \r\n",
    "            Sigma_tilde_inv_R_u = Sigma_tilde_inv.mv(self.R_u[-1,:].clone())\r\n",
    "            Sigma_tilde_inv_R_ux = Sigma_tilde_inv.mm(self.R_ux[-1,:,:].clone())\r\n",
    "            Sigma_tilde_inv_t_R_uu = Sigma_tilde_inv.mm(self.R_uu[-1,:,:].clone())\r\n",
    "            \r\n",
    "            # though the action at the last step is deterministic, we can feed \r\n",
    "            # parameters of the prior with these values                     \r\n",
    "              \r\n",
    "            self.u_bar_prior[-1,:]   = (1/(2 * self.lambd.clone()))* Sigma_tilde_inv.clone().mv(self.R_u[-1,:].clone())\r\n",
    "            self.v_bar_prior[-1,:,:] = (1/(2 * self.lambd.clone()))* Sigma_tilde_inv.clone().mm(self.R_ux[-1,:,:].clone())    \r\n",
    "                \r\n",
    "            # First compute the coefficients of the reward function F at the last step:        \r\n",
    "            # F_xx                 \r\n",
    "            self.F_xx[-1,:,:] = (self.R_xx[-1,:,:].clone()\r\n",
    "                                 + (1/(2*self.lambd.clone()))* self.R_ux[-1,:,:].clone().t().mm(Sigma_tilde_inv_t_R_ux)\r\n",
    "                                 + (1/(4*self.lambd.clone()**2))* self.R_ux[-1,:,:].clone().t().mm(\r\n",
    "                                      Sigma_tilde_inv_t_R_uu.clone().mm(Sigma_tilde_inv.clone().mm(self.R_ux[-1,:,:].clone())))\r\n",
    "                                )\r\n",
    "            \r\n",
    "            # F_x                    \r\n",
    "            self.F_x[-1,:] = (self.R_x[-1,:].clone()\r\n",
    "                                 + (1/(self.lambd.clone()))* self.R_ux[-1,:,:].clone().t().mv(Sigma_tilde_inv_t_R_u.clone())\r\n",
    "                                 + (1/(2*self.lambd.clone()**2))* self.R_ux[-1,:,:].clone().t().mv(\r\n",
    "                                      Sigma_tilde_inv_t_R_uu.clone().mv(Sigma_tilde_inv_R_u.clone()))\r\n",
    "                            )\r\n",
    "            \r\n",
    "            # F_0   \r\n",
    "            self.F_0[-1] = (self.R_0[-1].clone() \r\n",
    "                            +  (1/(2*self.lambd.clone()))* self.R_u[-1,:].clone().dot(Sigma_tilde_inv_R_u.clone())\r\n",
    "                            + (1/(4*self.lambd.clone()**2))* self.R_u[-1,:].clone().dot(\r\n",
    "                                Sigma_tilde_inv_t_R_uu.clone().mv(Sigma_tilde_inv_R_u.clone()))\r\n",
    "                           )\r\n",
    "            \r\n",
    "            # for the Q-function at the last step:\r\n",
    "            self.Q_xx[-1,:,:] = self.R_xx[-1,:,:].clone()\r\n",
    "            self.Q_ux[-1,:,:] = self.R_ux[-1,:,:].clone()\r\n",
    "            self.Q_uu[-1,:,:] = self.R_uu[-1,:,:].clone()\r\n",
    "            self.Q_u[-1,:] = self.R_u[-1,:].clone()\r\n",
    "            self.Q_x[-1,:] = self.R_x[-1,:].clone()\r\n",
    "            self.Q_0[-1] = self.R_0[-1].clone()\r\n",
    "            \r\n",
    "    def G_learning(self, err_tol, max_iter):\r\n",
    "        \"\"\"\r\n",
    "        find the optimal policy for the time dependent policy\r\n",
    "        \r\n",
    "        \"\"\"   \r\n",
    "        print('Doing G-learning, it may take a few seconds...')\r\n",
    "        \r\n",
    "        # set terminal conditions\r\n",
    "        self.set_terminal_conditions()\r\n",
    "        \r\n",
    "        # allocate iteration numbers for all steps\r\n",
    "        self.iter_counts = np.zeros(self.num_steps)\r\n",
    "        \r\n",
    "        # iterate over time steps backward\r\n",
    "        for t in range(self.num_steps-2,-1,-1):\r\n",
    "            self.step_G_learning(t, err_tol, max_iter)\r\n",
    "            \r\n",
    "    def step_G_learning(self, t, err_tol, max_iter):\r\n",
    "        \"\"\"\r\n",
    "        Perform one step of backward iteration for G-learning self-consistent equations\r\n",
    "        This should start from step t = num_steps - 2 (i.e. from a step that is before the last one)\r\n",
    "        \"\"\"\r\n",
    "            \r\n",
    "        # make matrix Sigma_hat_t        \r\n",
    "        one_plus_exp_ret = torch.ones(self.num_assets,dtype=torch.float64) + self.exp_returns[t,:]\r\n",
    "        Sigma_hat_t = self.Sigma_r_tilde + torch.ger(one_plus_exp_ret, one_plus_exp_ret)\r\n",
    "        \r\n",
    "        # matrix A_t = diag(1 + r_bar_t)\r\n",
    "        A_t = torch.diag(torch.ones(self.num_assets,dtype=torch.float64) + self.exp_returns[t,:])\r\n",
    "                    \r\n",
    "        # update parameters of Q_function using next-step F-function values\r\n",
    "        self.update_Q_params(t, A_t,Sigma_hat_t)\r\n",
    "             \r\n",
    "        # iterate between policy evaluation and policy improvement  \r\n",
    "        while self.iter_counts[t] < max_iter:\r\n",
    "                \r\n",
    "            curr_u_bar_prior = self.u_bar_prior[t,:].clone()  \r\n",
    "            curr_v_bar_prior = self.v_bar_prior[t,:,:].clone()     \r\n",
    "                \r\n",
    "            # compute parameters of F-function for this step from parameters of Q-function\r\n",
    "            self.update_F_params(t) \r\n",
    "              \r\n",
    "            # Policy iteration step: update parameters of the prior policy distribution\r\n",
    "            # with given Q- and F-function parameters\r\n",
    "            self.update_policy_params(t)    \r\n",
    "            \r\n",
    "            # difference between the current value of u_bar_prior and the previous one\r\n",
    "            err_u_bar = torch.sum((curr_u_bar_prior - self.u_bar_prior[t,:])**2)\r\n",
    "            \r\n",
    "            # divide by num_assets in err_v_bar to get both errors on a comparable scale\r\n",
    "            err_v_bar = (1/self.num_assets)*torch.sum((curr_v_bar_prior - self.v_bar_prior[t,:,:])**2)\r\n",
    "            \r\n",
    "            # choose the difference from the previous iteration as the maximum of the two errors\r\n",
    "            tol = torch.max(err_u_bar, err_v_bar)  # tol = 0.5*(err_u_bar + err_v_bar)\r\n",
    "            \r\n",
    "            self.iter_counts[t] += 1\r\n",
    "            # Repeat the calculation of Q- and F-values\r\n",
    "            if tol <= err_tol:\r\n",
    "                break\r\n",
    "                \r\n",
    "    def update_Q_params(self,t, A_t,Sigma_hat_t):\r\n",
    "        \"\"\"\r\n",
    "        update the current (time-t) parameters of Q-function from (t+1)-parameters of F-function\r\n",
    "        \"\"\" \r\n",
    "                \r\n",
    "        ones = torch.ones(self.num_assets,dtype=torch.float64)    \r\n",
    "        one_plus_exp_ret = torch.ones(self.num_assets,dtype=torch.float64) + self.exp_returns[t,:]\r\n",
    "    \r\n",
    "        self.Q_xx[t,:,:] = (self.R_xx[t,:,:].clone() \r\n",
    "                            + self.gamma *( (A_t.clone().mm(self.F_xx[t+1,:,:].clone())).mm(A_t.clone())  \r\n",
    "                                           + self.Sigma_r_tilde.clone() * self.F_xx[t+1,:,:].clone() ) )\r\n",
    "\r\n",
    "\r\n",
    "        self.Q_ux[t,:,:] = (self.R_ux[t,:,:].clone() \r\n",
    "                            + 2 * self.gamma *( (A_t.clone().mm(self.F_xx[t+1,:,:].clone())).mm(A_t.clone())  \r\n",
    "                                           + self.Sigma_r_tilde.clone() * self.F_xx[t+1,:,:].clone() ) \r\n",
    "                           )\r\n",
    "    \r\n",
    "        self.Q_uu[t,:,:] = (self.R_uu[t,:,:].clone()  \r\n",
    "                            + self.gamma *( (A_t.clone().mm(self.F_xx[t+1,:,:].clone())).mm(A_t.clone())  \r\n",
    "                                           + self.Sigma_r_tilde.clone() * self.F_xx[t+1,:,:].clone() )\r\n",
    "                            - self.Omega_mat.clone()\r\n",
    "                           )\r\n",
    "\r\n",
    "\r\n",
    "        self.Q_x[t,:] = self.R_x[t,:].clone() + self.gamma * A_t.clone().mv(self.F_x[t+1,:].clone()) \r\n",
    "        self.Q_u[t,:] = self.R_u[t,:].clone() + self.gamma * A_t.clone().mv(self.F_x[t+1,:].clone())\r\n",
    "        self.Q_0[t]   = self.R_0[t].clone() + self.gamma * self.F_0[t+1].clone()\r\n",
    "\r\n",
    "    def update_F_params(self,t):\r\n",
    "        \"\"\"\r\n",
    "        update the current (time-t) parameters of F-function from t-parameters of G-function\r\n",
    "        This is a policy evaluation step: it uses the current estimations of the mean parameters of the policy\r\n",
    "        \r\n",
    "        \"\"\"\r\n",
    "        \r\n",
    "        # produce auxiliary parameters U_t, W_t, Sigma_tilde_t\r\n",
    "        U_t = (self.beta.clone() * self.Q_ux[t,:,:].clone() \r\n",
    "               + self.Sigma_prior_inv[t,:,:].clone().mm(self.v_bar_prior[t,:,:].clone()))\r\n",
    "        W_t = (self.beta.clone() * self.Q_u[t,:].clone() \r\n",
    "               +  self.Sigma_prior_inv[t,:,:].clone().mv(self.u_bar_prior[t,:]).clone())\r\n",
    "        Sigma_p_bar =  self.Sigma_prior_inv[t,:,:].clone() - 2 * self.beta.clone() * self.Q_uu[t,:,:].clone()\r\n",
    "        Sigma_p_bar_inv = torch.inverse(Sigma_p_bar + self.reg_mat)\r\n",
    "        \r\n",
    "        # update parameters of F-function\r\n",
    "        self.F_xx[t,:,:] = self.Q_xx[t,:,:].clone() + (1/(2*self.beta.clone()))*(U_t.t().mm(Sigma_p_bar_inv.clone().mm(U_t))\r\n",
    "                                    - self.v_bar_prior[t,:,:].clone().t().mm(\r\n",
    "                                        self.Sigma_prior_inv[t,:,:].clone().mm(self.v_bar_prior[t,:,:].clone())))\r\n",
    "        \r\n",
    "        \r\n",
    "        self.F_x[t,:] = self.Q_x[t,:].clone() + (1/self.beta.clone())*(U_t.mv(Sigma_p_bar_inv.clone().mv(W_t))\r\n",
    "                                    - self.v_bar_prior[t,:,:].clone().mv(\r\n",
    "                                        self.Sigma_prior_inv[t,:,:].clone().mv(self.u_bar_prior[t,:].clone())))\r\n",
    "        \r\n",
    "        \r\n",
    "        self.F_0[t] = self.Q_0[t].clone() + ( (1/(2*self.beta.clone()))*(W_t.dot(Sigma_p_bar_inv.clone().mv(W_t))\r\n",
    "                                    - self.u_bar_prior[t,:].clone().dot(\r\n",
    "                                        self.Sigma_prior_inv[t,:,:].clone().mv(self.u_bar_prior[t,:].clone())))\r\n",
    "                                    - (1/(2*self.beta.clone())) * (torch.log(torch.det(self.Sigma_prior[t,:,:].clone()+\r\n",
    "                                                                              self.reg_mat))\r\n",
    "                                                       - torch.log(torch.det(Sigma_p_bar_inv.clone() + self.reg_mat))) )\r\n",
    "\r\n",
    "    def update_policy_params(self,t):\r\n",
    "        \"\"\"\r\n",
    "        update parameters of the Gaussian policy using current coefficients of the F- and G-functions\r\n",
    "        \"\"\"\r\n",
    "        \r\n",
    "        new_Sigma_prior_inv = self.Sigma_prior_inv[t,:,:].clone() - 2 * self.beta.clone() * self.Q_uu[t,:,:].clone()\r\n",
    "\r\n",
    "        Sigma_prior_new = torch.inverse(new_Sigma_prior_inv + self.reg_mat)\r\n",
    "        \r\n",
    "        # update parameters using the previous value of Sigma_prior_inv\r\n",
    "        self.u_bar_prior[t,:] = Sigma_prior_new.mv(self.Sigma_prior_inv[t,:,:].clone().mv(self.u_bar_prior[t,:].clone())\r\n",
    "                                              + self.beta.clone() * self.Q_u[t,:].clone())\r\n",
    "        \r\n",
    "        \r\n",
    "        self.v_bar_prior[t,:,:] = Sigma_prior_new.clone().mm(self.Sigma_prior_inv[t,:,:].clone().mm(self.v_bar_prior[t,:,:].clone())\r\n",
    "                                              + self.beta.clone() * self.Q_ux[t,:,:].clone())\r\n",
    "        \r\n",
    "        # and then assign the new inverse covariance for the prior for the next iteration\r\n",
    "        self.Sigma_prior[t,:,:] = Sigma_prior_new.clone()\r\n",
    "        self.Sigma_prior_inv[t,:,:] = new_Sigma_prior_inv.clone()\r\n",
    "        \r\n",
    "        # also assign the same values for the previous time step\r\n",
    "        if t > 0:\r\n",
    "            self.Sigma_prior[t-1,:,:] = self.Sigma_prior[t,:,:].clone()\r\n",
    "            self.u_bar_prior[t-1,:] = self.u_bar_prior[t,:].clone()\r\n",
    "            self.v_bar_prior[t-1,:,:] = self.v_bar_prior[t,:,:].clone()\r\n",
    "            \r\n",
    "    def trajs_to_torch_tensors(self,trajs):\r\n",
    "        \"\"\"\r\n",
    "        Convert data from a list of lists into Torch tensors\r\n",
    "        \"\"\"\r\n",
    "        num_trajs = len(trajs)\r\n",
    "        \r\n",
    "        self.data_xvals = torch.zeros(num_trajs,self.num_steps,self.num_assets,dtype=torch.float64)\r\n",
    "        self.data_uvals = torch.zeros(num_trajs,self.num_steps,self.num_assets,dtype=torch.float64)\r\n",
    "            \r\n",
    "        for n in range(num_trajs):\r\n",
    "            for t in range(self.num_steps):\r\n",
    "                self.data_xvals[n,t,:] = torch.tensor(trajs[n][t][0],dtype=torch.float64).clone()\r\n",
    "                self.data_uvals[n,t,:] = torch.tensor(trajs[n][t][1],dtype=torch.float64).clone()\r\n",
    "                \r\n",
    "    def compute_reward_on_traj(self,\r\n",
    "                              t,\r\n",
    "                              x_t, u_t):\r\n",
    "        \"\"\"\r\n",
    "        Given time t and corresponding values of vectors x_t, u_t, compute the total reward for this step\r\n",
    "        \"\"\"\r\n",
    "        \r\n",
    "        aux_xx = x_t.dot(self.R_xx[t,:,:].clone().mv(x_t))\r\n",
    "        aux_ux = u_t.dot(self.R_ux[t,:,:].clone().mv(x_t))\r\n",
    "        aux_uu = u_t.dot(self.R_uu[t,:,:].clone().mv(u_t))\r\n",
    "        aux_x = x_t.dot(self.R_x[t,:].clone())\r\n",
    "        aux_u = u_t.dot(self.R_u[t,:].clone())\r\n",
    "        aux_0 = self.R_0[t].clone()\r\n",
    "        \r\n",
    "        return aux_xx + aux_ux + aux_uu + aux_x + aux_u + aux_0\r\n",
    "    \r\n",
    "    def compute_G_fun_on_traj(self,\r\n",
    "                              t,\r\n",
    "                              x_t, u_t):\r\n",
    "        \"\"\"\r\n",
    "        Given time t and corresponding values of vectors x_t, u_t, compute the total reward for this step\r\n",
    "        \"\"\"\r\n",
    "        \r\n",
    "        aux_xx = x_t.dot(self.Q_xx[t,:,:].clone().mv(x_t))\r\n",
    "        aux_ux = u_t.dot(self.Q_ux[t,:,:].clone().mv(x_t))\r\n",
    "        aux_uu = u_t.dot(self.Q_uu[t,:,:].clone().mv(u_t))\r\n",
    "        aux_x = x_t.dot(self.Q_x[t,:].clone())\r\n",
    "        aux_u = u_t.dot(self.Q_u[t,:].clone())\r\n",
    "        aux_0 = self.Q_0[t].clone()\r\n",
    "        \r\n",
    "        return aux_xx + aux_ux + aux_uu + aux_x + aux_u + aux_0\r\n",
    "    \r\n",
    "    def compute_F_fun_on_traj(self,\r\n",
    "                              t,\r\n",
    "                              x_t):\r\n",
    "        \"\"\"\r\n",
    "        Given time t and corresponding values of vectors x_t, u_t, compute the total reward for this step\r\n",
    "        \"\"\"\r\n",
    "        \r\n",
    "        aux_xx = x_t.dot(self.F_xx[t,:,:].clone().mv(x_t))\r\n",
    "        aux_x = x_t.dot(self.F_x[t,:].clone())\r\n",
    "        aux_0 = self.F_0[t].clone()\r\n",
    "        \r\n",
    "        return aux_xx + aux_x + aux_0\r\n",
    "                 \r\n",
    "    def MaxEntIRL(self,\r\n",
    "                  trajs,\r\n",
    "                  learning_rate,\r\n",
    "                  err_tol, max_iter):\r\n",
    "        \r\n",
    "        \"\"\"\r\n",
    "        Estimate parameters of the reward function using MaxEnt IRL.\r\n",
    "        Inputs:\r\n",
    "        \r\n",
    "        trajs - a list of trajectories. Each trajectory is a list of state-action pairs, stored as a tuple.\r\n",
    "                We assume each trajectory has the same length\r\n",
    "        \"\"\"\r\n",
    "        \r\n",
    "        # omega is a tunable parameter that determines the cost matrix self.Omega_mat\r\n",
    "        omega_init = 15.0\r\n",
    "        self.omega = torch.tensor(omega_init, requires_grad=True, dtype=torch.float64)\r\n",
    "        \r\n",
    "        beta_init = 50 # Beta is fixed and not a learned parameter.\r\n",
    "        self.beta = torch.tensor(beta_init, requires_grad=True, dtype=torch.float64)\r\n",
    "        \r\n",
    "        reward_params =  [self.lambd, self.eta, self.rho, self.omega, self.beta]\r\n",
    "        \r\n",
    "        print(\"Omega mat...\")\r\n",
    "        self.Omega_mat = self.omega * torch.eye(self.num_assets,dtype=torch.float64)\r\n",
    "        print(\"g learning...\")\r\n",
    "        self.reset_prior_policy()\r\n",
    "        self.G_learning(err_tol, max_iter)\r\n",
    "        print(\"intialize optimizer...\")\r\n",
    "        optimizer = optim.Adam(reward_params, lr=learning_rate)\r\n",
    "        print(\"zero grad...\")\r\n",
    "        optimizer.zero_grad()\r\n",
    "        \r\n",
    "        num_trajs = len(trajs)\r\n",
    "        print(\"trajs_to_torch_tensors...\")\r\n",
    "        \r\n",
    "        # fill in Torch tensors for the trajectory data\r\n",
    "        self.trajs_to_torch_tensors(trajs)\r\n",
    "        print(\"constructing zero tensors...\")   \r\n",
    "        self.realized_rewards = torch.zeros(num_trajs,self.num_steps,dtype=torch.float64,requires_grad=True)\r\n",
    "        self.realized_cum_rewards = torch.zeros(num_trajs, dtype=torch.float64, requires_grad=True)\r\n",
    "        print(\"constructing zero tensors...\")  \r\n",
    "        self.realized_G_fun = torch.zeros(num_trajs,self.num_steps,dtype=torch.float64, requires_grad=True)\r\n",
    "        self.realized_F_fun = torch.zeros(num_trajs,self.num_steps,dtype=torch.float64, requires_grad=True)\r\n",
    "        print(\"constructing zero tensors...\")  \r\n",
    "        self.realized_G_fun_cum = torch.zeros(num_trajs,dtype=torch.float64, requires_grad=True)\r\n",
    "        self.realized_F_fun_cum = torch.zeros(num_trajs,dtype=torch.float64, requires_grad=True)\r\n",
    "        print(\"done...\")  \r\n",
    "        \r\n",
    "        num_iter_IRL = 3\r\n",
    "        \r\n",
    "        for i in range(num_iter_IRL):\r\n",
    "            print('GIRL iteration = ', i)\r\n",
    "    \r\n",
    "            self.Omega_mat = self.omega * torch.eye(self.num_assets,dtype=torch.float64)\r\n",
    "    \r\n",
    "            for n in range(101):\r\n",
    "                if n%100==0:\r\n",
    "                    print(n)\r\n",
    "                for t in range(self.num_steps):\r\n",
    "                    \r\n",
    "                    # compute rewards obtained at each step for each trajectory\r\n",
    "                    # given the model parameters\r\n",
    "                    self.realized_rewards[n,t] = self.compute_reward_on_traj(t,\r\n",
    "                                                                self.data_xvals[n,t,:],\r\n",
    "                                                                self.data_uvals[n,t,:])\r\n",
    "                                                                \r\n",
    "            \r\n",
    "                    # compute the log-likelihood by looping over trajectories\r\n",
    "                    self.realized_G_fun[n,t] = self.compute_G_fun_on_traj(t,\r\n",
    "                                                                self.data_xvals[n,t,:],\r\n",
    "                                                                self.data_uvals[n,t,:])\r\n",
    "                \r\n",
    "                \r\n",
    "                    self.realized_F_fun[n,t] = self.compute_F_fun_on_traj(t,\r\n",
    "                                                                self.data_xvals[n,t,:])\r\n",
    "                \r\n",
    "\r\n",
    "                self.realized_cum_rewards[n] = self.realized_rewards[n,:].sum().clone()\r\n",
    "                self.realized_G_fun_cum[n] = self.realized_G_fun[n,:].sum().clone()\r\n",
    "                self.realized_F_fun_cum[n] = self.realized_F_fun[n,:].sum().clone()\r\n",
    "            \r\n",
    "            # the negative log-likelihood will not include terms ~ Sigma_p as we do not optimize over its value\r\n",
    "            loss = - self.beta.clone()*(self.realized_G_fun_cum.sum().clone() - self.realized_F_fun_cum.sum().clone())\r\n",
    "        \r\n",
    "            optimizer.zero_grad()\r\n",
    "        \r\n",
    "            loss.backward() \r\n",
    "        \r\n",
    "            optimizer.step()\r\n",
    "        \r\n",
    "            print('Iteration = ', i)\r\n",
    "            print('Loss = ', loss.detach().numpy())\r\n",
    "        \r\n",
    "           \r\n",
    "        print('Done optimizing reward parameters')          "
   ],
   "outputs": [],
   "metadata": {
    "colab": {},
    "colab_type": "code",
    "id": "qLivr9yuPQON",
    "tags": [
     "hide-input"
    ]
   }
  },
  {
   "cell_type": "markdown",
   "source": [
    "## Simulate portfolio data"
   ],
   "metadata": {
    "colab_type": "text",
    "id": "N_8XeDlpPQOV"
   }
  },
  {
   "cell_type": "markdown",
   "source": [
    "### Simulate the market factor under a lognormal distribution with a fixed drift and vol"
   ],
   "metadata": {
    "colab_type": "text",
    "id": "Gy2u0fkyPQOX"
   }
  },
  {
   "cell_type": "code",
   "execution_count": 154,
   "source": [
    "mu_market = 0.05\r\n",
    "vol_market = 0.25\r\n",
    "init_market_val = 100.0\r\n",
    "\r\n",
    "r_rf = 0.02  # risk-free rate - the first asset will be cash\r\n",
    "\r\n",
    "num_steps = 10 # number of steps for planning horizon\r\n",
    "dt = 0.25 # quarterly time steps\r\n",
    "\r\n",
    "num_risky_assets = 99 # 100\r\n",
    "\r\n",
    "returns_market = np.zeros(num_steps)\r\n",
    "market_vals = np.zeros(num_steps)\r\n",
    "market_vals[0] = 100.0  # initial value\r\n",
    "\r\n",
    "\r\n",
    "        \r\n",
    "for t in range(1,num_steps):\r\n",
    "\r\n",
    "        rand_norm = np.random.standard_t(4)\r\n",
    "        \r\n",
    "        # use log-returns of market as 'returns_market'\r\n",
    "        returns_market[t] = mu_market * dt + vol_market * np.sqrt(dt) * rand_norm\r\n",
    "        \r\n",
    "        market_vals[t] = market_vals[t-1] * np.exp((mu_market - 0.5*vol_market**2)*dt + \r\n",
    "                                                         vol_market*np.sqrt(dt)*rand_norm)\r\n",
    "        "
   ],
   "outputs": [],
   "metadata": {
    "colab": {},
    "colab_type": "code",
    "id": "F25fZ-s9PQOb"
   }
  },
  {
   "cell_type": "markdown",
   "source": [
    "### Simulate market betas and idiosyncratic alphas within pre-defined ranges"
   ],
   "metadata": {
    "colab_type": "text",
    "id": "sUUBRbwbPQO1"
   }
  },
  {
   "cell_type": "code",
   "execution_count": 155,
   "source": [
    "beta_min = 0.05\n",
    "beta_max = 0.85\n",
    "beta_vals = np.random.uniform(low=beta_min, high=beta_max, size=num_risky_assets)\n",
    "\n",
    "alpha_min = - 0.05\n",
    "alpha_max = 0.15\n",
    "alpha_vals = np.random.uniform(low=alpha_min, high=alpha_max, size=num_risky_assets)\n",
    "\n",
    "data = {\"alpha\": alpha_vals, \n",
    "        \"beta\" : beta_vals}\n",
    "\n",
    "\n",
    "pd.DataFrame(data, columns=[\"alpha\", \"beta\"]).head()"
   ],
   "outputs": [
    {
     "output_type": "execute_result",
     "data": {
      "text/html": [
       "<div>\n",
       "<style scoped>\n",
       "    .dataframe tbody tr th:only-of-type {\n",
       "        vertical-align: middle;\n",
       "    }\n",
       "\n",
       "    .dataframe tbody tr th {\n",
       "        vertical-align: top;\n",
       "    }\n",
       "\n",
       "    .dataframe thead th {\n",
       "        text-align: right;\n",
       "    }\n",
       "</style>\n",
       "<table border=\"1\" class=\"dataframe\">\n",
       "  <thead>\n",
       "    <tr style=\"text-align: right;\">\n",
       "      <th></th>\n",
       "      <th>alpha</th>\n",
       "      <th>beta</th>\n",
       "    </tr>\n",
       "  </thead>\n",
       "  <tbody>\n",
       "    <tr>\n",
       "      <th>0</th>\n",
       "      <td>-0.028382</td>\n",
       "      <td>0.846587</td>\n",
       "    </tr>\n",
       "    <tr>\n",
       "      <th>1</th>\n",
       "      <td>0.008672</td>\n",
       "      <td>0.809103</td>\n",
       "    </tr>\n",
       "    <tr>\n",
       "      <th>2</th>\n",
       "      <td>0.119564</td>\n",
       "      <td>0.300093</td>\n",
       "    </tr>\n",
       "    <tr>\n",
       "      <th>3</th>\n",
       "      <td>-0.049053</td>\n",
       "      <td>0.471803</td>\n",
       "    </tr>\n",
       "    <tr>\n",
       "      <th>4</th>\n",
       "      <td>-0.042216</td>\n",
       "      <td>0.688205</td>\n",
       "    </tr>\n",
       "  </tbody>\n",
       "</table>\n",
       "</div>"
      ],
      "text/plain": [
       "      alpha      beta\n",
       "0 -0.028382  0.846587\n",
       "1  0.008672  0.809103\n",
       "2  0.119564  0.300093\n",
       "3 -0.049053  0.471803\n",
       "4 -0.042216  0.688205"
      ]
     },
     "metadata": {},
     "execution_count": 155
    }
   ],
   "metadata": {
    "colab": {
     "base_uri": "https://localhost:8080/",
     "height": 86
    },
    "colab_type": "code",
    "id": "qraR7fRVPQO4",
    "outputId": "dfb260b8-fa17-4a70-a12d-86a4c2964e3c"
   }
  },
  {
   "cell_type": "markdown",
   "source": [
    "### Simulate time-dependent expected returns"
   ],
   "metadata": {
    "colab_type": "text",
    "id": "DNFzG5dgPQPB"
   }
  },
  {
   "cell_type": "code",
   "execution_count": 156,
   "source": [
    "# Time-independent expected returns would be equal to alpha + beta * expected_market_return \r\n",
    "# Make them time-dependent (and correlated with actual returns) as alpha + beta * oracle_market_returns\r\n",
    "\r\n",
    "oracle_coeff = 0.2\r\n",
    "mu_vec = mu_market * np.ones(num_steps)\r\n",
    "oracle_market_returns = mu_vec * dt + oracle_coeff*(returns_market - mu_vec)\r\n",
    "\r\n",
    "expected_risky_returns = np.zeros((num_steps, num_risky_assets))\r\n",
    "\r\n",
    "for t in range(num_steps):\r\n",
    "    expected_risky_returns[t,:] = alpha_vals * dt + beta_vals * oracle_market_returns[t]"
   ],
   "outputs": [],
   "metadata": {
    "colab": {},
    "colab_type": "code",
    "id": "a36GRMAlPQPD"
   }
  },
  {
   "cell_type": "markdown",
   "source": [
    "### Initial values of all assets "
   ],
   "metadata": {
    "colab_type": "text",
    "id": "DDN_R3znPQPK"
   }
  },
  {
   "cell_type": "code",
   "execution_count": 157,
   "source": [
    "val_min = 20.0\r\n",
    "val_max = 120.0\r\n",
    "\r\n",
    "init_risky_asset_vals = np.random.uniform(low=val_min, high=val_max, size=num_risky_assets)"
   ],
   "outputs": [],
   "metadata": {
    "colab": {},
    "colab_type": "code",
    "id": "YneTj6IBPQPM"
   }
  },
  {
   "cell_type": "markdown",
   "source": [
    "### Simulate realized returns and asset prices"
   ],
   "metadata": {
    "colab_type": "text",
    "id": "nqd7WIxbPQPS"
   }
  },
  {
   "cell_type": "code",
   "execution_count": 158,
   "source": [
    "# Generate realized returns and realized asset values by simulating from a one-factor model \r\n",
    "# with time-dependent expected returns\r\n",
    "\r\n",
    "risky_asset_returns = np.zeros((num_steps, num_risky_assets))\r\n",
    "risky_asset_vals = np.zeros((num_steps, num_risky_assets))\r\n",
    "\r\n",
    "idiosync_vol =  0.05 # vol_market  \r\n",
    "\r\n",
    "for t in range(num_steps):\r\n",
    "    \r\n",
    "    rand_norm = np.random.randn(num_risky_assets)\r\n",
    "        \r\n",
    "    # asset returns are simulated from a one-factor model\r\n",
    "    risky_asset_returns[t,:] = (expected_risky_returns[t,:] + beta_vals * (returns_market[t] - mu_market * dt) \r\n",
    "                         + idiosync_vol * np.sqrt(1 - beta_vals**2) * np.sqrt(dt) * rand_norm)\r\n",
    "        \r\n",
    "    # asset values\r\n",
    "    if t == 0:\r\n",
    "        risky_asset_vals[t,:] = init_risky_asset_vals\r\n",
    "    else:\r\n",
    "        risky_asset_vals[t] = risky_asset_vals[t-1] * (1 + risky_asset_returns[t,:])\r\n",
    "   "
   ],
   "outputs": [],
   "metadata": {
    "colab": {},
    "colab_type": "code",
    "id": "tSL2TU1IPQPW"
   }
  },
  {
   "cell_type": "code",
   "execution_count": 159,
   "source": [
    "import plotly.express as px \r\n",
    "import plotly.graph_objects as go \r\n",
    "\r\n",
    "\r\n",
    "\r\n",
    "fig = go.Figure()\r\n",
    "fig.add_trace(go.Scatter(y = expected_risky_returns.T[0],\r\n",
    "                         name = 'expected return'))\r\n",
    "fig.add_trace(go.Scatter(y = risky_asset_returns.T[0],\r\n",
    "                         name = 'realized return'))\r\n",
    "\r\n",
    "fig.update_layout(title='Realized returns vs expected returns',\r\n",
    "                   xaxis_title='Time Steps',\r\n",
    "                   yaxis_title='return')\r\n",
    "\r\n",
    "fig.show()"
   ],
   "outputs": [
    {
     "output_type": "display_data",
     "data": {
      "application/vnd.plotly.v1+json": {
       "config": {
        "plotlyServerURL": "https://plot.ly"
       },
       "data": [
        {
         "name": "expected return",
         "type": "scatter",
         "y": [
          -0.004979003917842348,
          -0.02542126687429801,
          0.004957399984649514,
          -0.01637581240116026,
          0.0100637571827694,
          -0.026768352647359852,
          0.0570961186126991,
          0.0035452758271272387,
          0.0019972538874463083,
          -0.022129018261639224
         ]
        },
        {
         "name": "realized return",
         "type": "scatter",
         "y": [
          -0.006499395662169673,
          -0.12499703811326272,
          0.05789001380987685,
          -0.0752205717738331,
          0.10753187412206866,
          -0.16980055077508893,
          0.35020881611181615,
          0.023481178208087934,
          0.03778759481314845,
          -0.07580293217129075
         ]
        }
       ],
       "layout": {
        "template": {
         "data": {
          "bar": [
           {
            "error_x": {
             "color": "#2a3f5f"
            },
            "error_y": {
             "color": "#2a3f5f"
            },
            "marker": {
             "line": {
              "color": "#E5ECF6",
              "width": 0.5
             },
             "pattern": {
              "fillmode": "overlay",
              "size": 10,
              "solidity": 0.2
             }
            },
            "type": "bar"
           }
          ],
          "barpolar": [
           {
            "marker": {
             "line": {
              "color": "#E5ECF6",
              "width": 0.5
             },
             "pattern": {
              "fillmode": "overlay",
              "size": 10,
              "solidity": 0.2
             }
            },
            "type": "barpolar"
           }
          ],
          "carpet": [
           {
            "aaxis": {
             "endlinecolor": "#2a3f5f",
             "gridcolor": "white",
             "linecolor": "white",
             "minorgridcolor": "white",
             "startlinecolor": "#2a3f5f"
            },
            "baxis": {
             "endlinecolor": "#2a3f5f",
             "gridcolor": "white",
             "linecolor": "white",
             "minorgridcolor": "white",
             "startlinecolor": "#2a3f5f"
            },
            "type": "carpet"
           }
          ],
          "choropleth": [
           {
            "colorbar": {
             "outlinewidth": 0,
             "ticks": ""
            },
            "type": "choropleth"
           }
          ],
          "contour": [
           {
            "colorbar": {
             "outlinewidth": 0,
             "ticks": ""
            },
            "colorscale": [
             [
              0,
              "#0d0887"
             ],
             [
              0.1111111111111111,
              "#46039f"
             ],
             [
              0.2222222222222222,
              "#7201a8"
             ],
             [
              0.3333333333333333,
              "#9c179e"
             ],
             [
              0.4444444444444444,
              "#bd3786"
             ],
             [
              0.5555555555555556,
              "#d8576b"
             ],
             [
              0.6666666666666666,
              "#ed7953"
             ],
             [
              0.7777777777777778,
              "#fb9f3a"
             ],
             [
              0.8888888888888888,
              "#fdca26"
             ],
             [
              1,
              "#f0f921"
             ]
            ],
            "type": "contour"
           }
          ],
          "contourcarpet": [
           {
            "colorbar": {
             "outlinewidth": 0,
             "ticks": ""
            },
            "type": "contourcarpet"
           }
          ],
          "heatmap": [
           {
            "colorbar": {
             "outlinewidth": 0,
             "ticks": ""
            },
            "colorscale": [
             [
              0,
              "#0d0887"
             ],
             [
              0.1111111111111111,
              "#46039f"
             ],
             [
              0.2222222222222222,
              "#7201a8"
             ],
             [
              0.3333333333333333,
              "#9c179e"
             ],
             [
              0.4444444444444444,
              "#bd3786"
             ],
             [
              0.5555555555555556,
              "#d8576b"
             ],
             [
              0.6666666666666666,
              "#ed7953"
             ],
             [
              0.7777777777777778,
              "#fb9f3a"
             ],
             [
              0.8888888888888888,
              "#fdca26"
             ],
             [
              1,
              "#f0f921"
             ]
            ],
            "type": "heatmap"
           }
          ],
          "heatmapgl": [
           {
            "colorbar": {
             "outlinewidth": 0,
             "ticks": ""
            },
            "colorscale": [
             [
              0,
              "#0d0887"
             ],
             [
              0.1111111111111111,
              "#46039f"
             ],
             [
              0.2222222222222222,
              "#7201a8"
             ],
             [
              0.3333333333333333,
              "#9c179e"
             ],
             [
              0.4444444444444444,
              "#bd3786"
             ],
             [
              0.5555555555555556,
              "#d8576b"
             ],
             [
              0.6666666666666666,
              "#ed7953"
             ],
             [
              0.7777777777777778,
              "#fb9f3a"
             ],
             [
              0.8888888888888888,
              "#fdca26"
             ],
             [
              1,
              "#f0f921"
             ]
            ],
            "type": "heatmapgl"
           }
          ],
          "histogram": [
           {
            "marker": {
             "pattern": {
              "fillmode": "overlay",
              "size": 10,
              "solidity": 0.2
             }
            },
            "type": "histogram"
           }
          ],
          "histogram2d": [
           {
            "colorbar": {
             "outlinewidth": 0,
             "ticks": ""
            },
            "colorscale": [
             [
              0,
              "#0d0887"
             ],
             [
              0.1111111111111111,
              "#46039f"
             ],
             [
              0.2222222222222222,
              "#7201a8"
             ],
             [
              0.3333333333333333,
              "#9c179e"
             ],
             [
              0.4444444444444444,
              "#bd3786"
             ],
             [
              0.5555555555555556,
              "#d8576b"
             ],
             [
              0.6666666666666666,
              "#ed7953"
             ],
             [
              0.7777777777777778,
              "#fb9f3a"
             ],
             [
              0.8888888888888888,
              "#fdca26"
             ],
             [
              1,
              "#f0f921"
             ]
            ],
            "type": "histogram2d"
           }
          ],
          "histogram2dcontour": [
           {
            "colorbar": {
             "outlinewidth": 0,
             "ticks": ""
            },
            "colorscale": [
             [
              0,
              "#0d0887"
             ],
             [
              0.1111111111111111,
              "#46039f"
             ],
             [
              0.2222222222222222,
              "#7201a8"
             ],
             [
              0.3333333333333333,
              "#9c179e"
             ],
             [
              0.4444444444444444,
              "#bd3786"
             ],
             [
              0.5555555555555556,
              "#d8576b"
             ],
             [
              0.6666666666666666,
              "#ed7953"
             ],
             [
              0.7777777777777778,
              "#fb9f3a"
             ],
             [
              0.8888888888888888,
              "#fdca26"
             ],
             [
              1,
              "#f0f921"
             ]
            ],
            "type": "histogram2dcontour"
           }
          ],
          "mesh3d": [
           {
            "colorbar": {
             "outlinewidth": 0,
             "ticks": ""
            },
            "type": "mesh3d"
           }
          ],
          "parcoords": [
           {
            "line": {
             "colorbar": {
              "outlinewidth": 0,
              "ticks": ""
             }
            },
            "type": "parcoords"
           }
          ],
          "pie": [
           {
            "automargin": true,
            "type": "pie"
           }
          ],
          "scatter": [
           {
            "marker": {
             "colorbar": {
              "outlinewidth": 0,
              "ticks": ""
             }
            },
            "type": "scatter"
           }
          ],
          "scatter3d": [
           {
            "line": {
             "colorbar": {
              "outlinewidth": 0,
              "ticks": ""
             }
            },
            "marker": {
             "colorbar": {
              "outlinewidth": 0,
              "ticks": ""
             }
            },
            "type": "scatter3d"
           }
          ],
          "scattercarpet": [
           {
            "marker": {
             "colorbar": {
              "outlinewidth": 0,
              "ticks": ""
             }
            },
            "type": "scattercarpet"
           }
          ],
          "scattergeo": [
           {
            "marker": {
             "colorbar": {
              "outlinewidth": 0,
              "ticks": ""
             }
            },
            "type": "scattergeo"
           }
          ],
          "scattergl": [
           {
            "marker": {
             "colorbar": {
              "outlinewidth": 0,
              "ticks": ""
             }
            },
            "type": "scattergl"
           }
          ],
          "scattermapbox": [
           {
            "marker": {
             "colorbar": {
              "outlinewidth": 0,
              "ticks": ""
             }
            },
            "type": "scattermapbox"
           }
          ],
          "scatterpolar": [
           {
            "marker": {
             "colorbar": {
              "outlinewidth": 0,
              "ticks": ""
             }
            },
            "type": "scatterpolar"
           }
          ],
          "scatterpolargl": [
           {
            "marker": {
             "colorbar": {
              "outlinewidth": 0,
              "ticks": ""
             }
            },
            "type": "scatterpolargl"
           }
          ],
          "scatterternary": [
           {
            "marker": {
             "colorbar": {
              "outlinewidth": 0,
              "ticks": ""
             }
            },
            "type": "scatterternary"
           }
          ],
          "surface": [
           {
            "colorbar": {
             "outlinewidth": 0,
             "ticks": ""
            },
            "colorscale": [
             [
              0,
              "#0d0887"
             ],
             [
              0.1111111111111111,
              "#46039f"
             ],
             [
              0.2222222222222222,
              "#7201a8"
             ],
             [
              0.3333333333333333,
              "#9c179e"
             ],
             [
              0.4444444444444444,
              "#bd3786"
             ],
             [
              0.5555555555555556,
              "#d8576b"
             ],
             [
              0.6666666666666666,
              "#ed7953"
             ],
             [
              0.7777777777777778,
              "#fb9f3a"
             ],
             [
              0.8888888888888888,
              "#fdca26"
             ],
             [
              1,
              "#f0f921"
             ]
            ],
            "type": "surface"
           }
          ],
          "table": [
           {
            "cells": {
             "fill": {
              "color": "#EBF0F8"
             },
             "line": {
              "color": "white"
             }
            },
            "header": {
             "fill": {
              "color": "#C8D4E3"
             },
             "line": {
              "color": "white"
             }
            },
            "type": "table"
           }
          ]
         },
         "layout": {
          "annotationdefaults": {
           "arrowcolor": "#2a3f5f",
           "arrowhead": 0,
           "arrowwidth": 1
          },
          "autotypenumbers": "strict",
          "coloraxis": {
           "colorbar": {
            "outlinewidth": 0,
            "ticks": ""
           }
          },
          "colorscale": {
           "diverging": [
            [
             0,
             "#8e0152"
            ],
            [
             0.1,
             "#c51b7d"
            ],
            [
             0.2,
             "#de77ae"
            ],
            [
             0.3,
             "#f1b6da"
            ],
            [
             0.4,
             "#fde0ef"
            ],
            [
             0.5,
             "#f7f7f7"
            ],
            [
             0.6,
             "#e6f5d0"
            ],
            [
             0.7,
             "#b8e186"
            ],
            [
             0.8,
             "#7fbc41"
            ],
            [
             0.9,
             "#4d9221"
            ],
            [
             1,
             "#276419"
            ]
           ],
           "sequential": [
            [
             0,
             "#0d0887"
            ],
            [
             0.1111111111111111,
             "#46039f"
            ],
            [
             0.2222222222222222,
             "#7201a8"
            ],
            [
             0.3333333333333333,
             "#9c179e"
            ],
            [
             0.4444444444444444,
             "#bd3786"
            ],
            [
             0.5555555555555556,
             "#d8576b"
            ],
            [
             0.6666666666666666,
             "#ed7953"
            ],
            [
             0.7777777777777778,
             "#fb9f3a"
            ],
            [
             0.8888888888888888,
             "#fdca26"
            ],
            [
             1,
             "#f0f921"
            ]
           ],
           "sequentialminus": [
            [
             0,
             "#0d0887"
            ],
            [
             0.1111111111111111,
             "#46039f"
            ],
            [
             0.2222222222222222,
             "#7201a8"
            ],
            [
             0.3333333333333333,
             "#9c179e"
            ],
            [
             0.4444444444444444,
             "#bd3786"
            ],
            [
             0.5555555555555556,
             "#d8576b"
            ],
            [
             0.6666666666666666,
             "#ed7953"
            ],
            [
             0.7777777777777778,
             "#fb9f3a"
            ],
            [
             0.8888888888888888,
             "#fdca26"
            ],
            [
             1,
             "#f0f921"
            ]
           ]
          },
          "colorway": [
           "#636efa",
           "#EF553B",
           "#00cc96",
           "#ab63fa",
           "#FFA15A",
           "#19d3f3",
           "#FF6692",
           "#B6E880",
           "#FF97FF",
           "#FECB52"
          ],
          "font": {
           "color": "#2a3f5f"
          },
          "geo": {
           "bgcolor": "white",
           "lakecolor": "white",
           "landcolor": "#E5ECF6",
           "showlakes": true,
           "showland": true,
           "subunitcolor": "white"
          },
          "hoverlabel": {
           "align": "left"
          },
          "hovermode": "closest",
          "mapbox": {
           "style": "light"
          },
          "paper_bgcolor": "white",
          "plot_bgcolor": "#E5ECF6",
          "polar": {
           "angularaxis": {
            "gridcolor": "white",
            "linecolor": "white",
            "ticks": ""
           },
           "bgcolor": "#E5ECF6",
           "radialaxis": {
            "gridcolor": "white",
            "linecolor": "white",
            "ticks": ""
           }
          },
          "scene": {
           "xaxis": {
            "backgroundcolor": "#E5ECF6",
            "gridcolor": "white",
            "gridwidth": 2,
            "linecolor": "white",
            "showbackground": true,
            "ticks": "",
            "zerolinecolor": "white"
           },
           "yaxis": {
            "backgroundcolor": "#E5ECF6",
            "gridcolor": "white",
            "gridwidth": 2,
            "linecolor": "white",
            "showbackground": true,
            "ticks": "",
            "zerolinecolor": "white"
           },
           "zaxis": {
            "backgroundcolor": "#E5ECF6",
            "gridcolor": "white",
            "gridwidth": 2,
            "linecolor": "white",
            "showbackground": true,
            "ticks": "",
            "zerolinecolor": "white"
           }
          },
          "shapedefaults": {
           "line": {
            "color": "#2a3f5f"
           }
          },
          "ternary": {
           "aaxis": {
            "gridcolor": "white",
            "linecolor": "white",
            "ticks": ""
           },
           "baxis": {
            "gridcolor": "white",
            "linecolor": "white",
            "ticks": ""
           },
           "bgcolor": "#E5ECF6",
           "caxis": {
            "gridcolor": "white",
            "linecolor": "white",
            "ticks": ""
           }
          },
          "title": {
           "x": 0.05
          },
          "xaxis": {
           "automargin": true,
           "gridcolor": "white",
           "linecolor": "white",
           "ticks": "",
           "title": {
            "standoff": 15
           },
           "zerolinecolor": "white",
           "zerolinewidth": 2
          },
          "yaxis": {
           "automargin": true,
           "gridcolor": "white",
           "linecolor": "white",
           "ticks": "",
           "title": {
            "standoff": 15
           },
           "zerolinecolor": "white",
           "zerolinewidth": 2
          }
         }
        },
        "title": {
         "text": "Realized returns vs expected returns"
        },
        "xaxis": {
         "title": {
          "text": "Time Steps"
         }
        },
        "yaxis": {
         "title": {
          "text": "return"
         }
        }
       }
      }
     },
     "metadata": {}
    }
   ],
   "metadata": {}
  },
  {
   "cell_type": "markdown",
   "source": [
    "### Compute the empirical correlation matrix using realized returns"
   ],
   "metadata": {
    "colab_type": "text",
    "id": "WqAdjcoFPQPp"
   }
  },
  {
   "cell_type": "code",
   "execution_count": 160,
   "source": [
    "cov_mat_r = np.cov(risky_asset_returns.T) \r\n",
    "\r\n",
    "print(cov_mat_r.shape)\r\n",
    "\r\n",
    "D, v = np.linalg.eigh(cov_mat_r)\r\n",
    "\r\n",
    "eigenvals = D[::-1]  # put them in a descended order"
   ],
   "outputs": [
    {
     "output_type": "stream",
     "name": "stdout",
     "text": [
      "(99, 99)\n"
     ]
    }
   ],
   "metadata": {
    "colab": {
     "base_uri": "https://localhost:8080/",
     "height": 34
    },
    "colab_type": "code",
    "id": "sl5JQ3_8PQPs",
    "outputId": "5f93d784-2e83-4a2c-bf2e-23bd42eb5fb8"
   }
  },
  {
   "cell_type": "code",
   "execution_count": 161,
   "source": [
    "# eigenvalues: the largest eigenvalue is the market factor \r\n",
    "pd.DataFrame(eigenvals, columns=[\"eigenvals\"]).head()"
   ],
   "outputs": [
    {
     "output_type": "execute_result",
     "data": {
      "text/html": [
       "<div>\n",
       "<style scoped>\n",
       "    .dataframe tbody tr th:only-of-type {\n",
       "        vertical-align: middle;\n",
       "    }\n",
       "\n",
       "    .dataframe tbody tr th {\n",
       "        vertical-align: top;\n",
       "    }\n",
       "\n",
       "    .dataframe thead th {\n",
       "        text-align: right;\n",
       "    }\n",
       "</style>\n",
       "<table border=\"1\" class=\"dataframe\">\n",
       "  <thead>\n",
       "    <tr style=\"text-align: right;\">\n",
       "      <th></th>\n",
       "      <th>eigenvals</th>\n",
       "    </tr>\n",
       "  </thead>\n",
       "  <tbody>\n",
       "    <tr>\n",
       "      <th>0</th>\n",
       "      <td>0.847945</td>\n",
       "    </tr>\n",
       "    <tr>\n",
       "      <th>1</th>\n",
       "      <td>0.007705</td>\n",
       "    </tr>\n",
       "    <tr>\n",
       "      <th>2</th>\n",
       "      <td>0.006301</td>\n",
       "    </tr>\n",
       "    <tr>\n",
       "      <th>3</th>\n",
       "      <td>0.005990</td>\n",
       "    </tr>\n",
       "    <tr>\n",
       "      <th>4</th>\n",
       "      <td>0.005495</td>\n",
       "    </tr>\n",
       "  </tbody>\n",
       "</table>\n",
       "</div>"
      ],
      "text/plain": [
       "   eigenvals\n",
       "0   0.847945\n",
       "1   0.007705\n",
       "2   0.006301\n",
       "3   0.005990\n",
       "4   0.005495"
      ]
     },
     "metadata": {},
     "execution_count": 161
    }
   ],
   "metadata": {
    "colab": {
     "base_uri": "https://localhost:8080/",
     "height": 69
    },
    "colab_type": "code",
    "id": "H-HzoeHOPQP0",
    "outputId": "96c11580-037d-430d-fe77-5e54635ea519"
   }
  },
  {
   "cell_type": "code",
   "execution_count": 162,
   "source": [
    "cov_mat_torch = torch.tensor(cov_mat_r)\r\n",
    "\r\n",
    "pd.DataFrame(torch.pinverse(cov_mat_torch)[0], columns=[\"variance and covariance of first stock\"]).head()"
   ],
   "outputs": [
    {
     "output_type": "execute_result",
     "data": {
      "text/html": [
       "<div>\n",
       "<style scoped>\n",
       "    .dataframe tbody tr th:only-of-type {\n",
       "        vertical-align: middle;\n",
       "    }\n",
       "\n",
       "    .dataframe tbody tr th {\n",
       "        vertical-align: top;\n",
       "    }\n",
       "\n",
       "    .dataframe thead th {\n",
       "        text-align: right;\n",
       "    }\n",
       "</style>\n",
       "<table border=\"1\" class=\"dataframe\">\n",
       "  <thead>\n",
       "    <tr style=\"text-align: right;\">\n",
       "      <th></th>\n",
       "      <th>variance and covariance of first stock</th>\n",
       "    </tr>\n",
       "  </thead>\n",
       "  <tbody>\n",
       "    <tr>\n",
       "      <th>0</th>\n",
       "      <td>12.585204</td>\n",
       "    </tr>\n",
       "    <tr>\n",
       "      <th>1</th>\n",
       "      <td>-3.855655</td>\n",
       "    </tr>\n",
       "    <tr>\n",
       "      <th>2</th>\n",
       "      <td>6.182304</td>\n",
       "    </tr>\n",
       "    <tr>\n",
       "      <th>3</th>\n",
       "      <td>-1.435596</td>\n",
       "    </tr>\n",
       "    <tr>\n",
       "      <th>4</th>\n",
       "      <td>2.148662</td>\n",
       "    </tr>\n",
       "  </tbody>\n",
       "</table>\n",
       "</div>"
      ],
      "text/plain": [
       "   variance and covariance of first stock\n",
       "0                               12.585204\n",
       "1                               -3.855655\n",
       "2                                6.182304\n",
       "3                               -1.435596\n",
       "4                                2.148662"
      ]
     },
     "metadata": {},
     "execution_count": 162
    }
   ],
   "metadata": {
    "colab": {
     "base_uri": "https://localhost:8080/",
     "height": 156
    },
    "colab_type": "code",
    "id": "hFC61Ci94nnd",
    "outputId": "fc1d8cde-9ada-4e39-f6e6-3fe3b55559e0"
   }
  },
  {
   "cell_type": "markdown",
   "source": [
    "### Add a riskless bond as one more asset"
   ],
   "metadata": {
    "colab_type": "text",
    "id": "ohSC6oDePQP5"
   }
  },
  {
   "cell_type": "code",
   "execution_count": 163,
   "source": [
    "num_assets = num_risky_assets + 1\r\n",
    "\r\n",
    "bond_val = 100.0\r\n",
    "\r\n",
    "# add the bond to initial assets\r\n",
    "init_asset_vals = np.hstack((np.array([bond_val]),\r\n",
    "                            init_risky_asset_vals))"
   ],
   "outputs": [],
   "metadata": {
    "colab": {},
    "colab_type": "code",
    "id": "F7nwaM28PQP9"
   }
  },
  {
   "cell_type": "markdown",
   "source": [
    "### Make the initial portfolio "
   ],
   "metadata": {
    "colab_type": "text",
    "id": "hZQgn_CTPQQE"
   }
  },
  {
   "cell_type": "code",
   "execution_count": 164,
   "source": [
    "# consider here two choices: equal or equally-weighted \r\n",
    "init_port_choice =  'equal' \r\n",
    "\r\n",
    "init_cash = 1000.0\r\n",
    "init_total_asset = np.sum(init_asset_vals)\r\n",
    "\r\n",
    "x_vals_init = np.zeros(num_assets)\r\n",
    "\r\n",
    "if init_port_choice == 'equal': \r\n",
    "    # hold equal amounts of cash in each asset\r\n",
    "    amount_per_asset = init_cash/num_assets\r\n",
    "    x_vals_init = amount_per_asset * np.ones(num_assets)\r\n",
    "\r\n",
    "elif init_port_choice == 'equally_weighted':\r\n",
    "    amount_per_asset = init_cash/init_total_asset\r\n",
    "    x_vals_init = amount_per_asset * init_asset_vals\r\n",
    "    "
   ],
   "outputs": [],
   "metadata": {
    "colab": {},
    "colab_type": "code",
    "id": "PyMLBotBPQQH"
   }
  },
  {
   "cell_type": "markdown",
   "source": [
    "### Make the target portfolio"
   ],
   "metadata": {
    "colab_type": "text",
    "id": "Zkj8GdPDPQQP"
   }
  },
  {
   "cell_type": "code",
   "execution_count": 165,
   "source": [
    "# Generate a target portfolio term structure by defining it as \r\n",
    "# the initial portfolio growing at some fixed and high rate\r\n",
    "target_portfolio = [init_cash]\r\n",
    "\r\n",
    "target_return = 0.15 \r\n",
    "coeff_target = 1.1 \r\n",
    "\r\n",
    "for i in range(1,num_steps):\r\n",
    "    target_portfolio.append(target_portfolio[i-1]*np.exp(dt * target_return) )\r\n",
    "    \r\n",
    "target_portfolio = coeff_target*np.array(target_portfolio)    \r\n",
    "print(target_portfolio[0], target_portfolio[-1])"
   ],
   "outputs": [
    {
     "output_type": "stream",
     "name": "stdout",
     "text": [
      "1100.0 1541.5835692311712\n"
     ]
    }
   ],
   "metadata": {
    "colab": {
     "base_uri": "https://localhost:8080/",
     "height": 34
    },
    "colab_type": "code",
    "id": "LyyKCaPGPQQS",
    "outputId": "bda0d8d5-b848-4c2b-c36b-3f2ac1a1bf78"
   }
  },
  {
   "cell_type": "markdown",
   "source": [
    "### Define model parameters"
   ],
   "metadata": {
    "colab_type": "text",
    "id": "2UMA8UwlPQQc"
   }
  },
  {
   "cell_type": "code",
   "execution_count": 166,
   "source": [
    "riskfree_rate = 0.02\r\n",
    "fee_bond = 0.05 # 0.01 # \r\n",
    "fee_stock = 0.05 # 0.05 # 20.0 # 0.1 # 1.0 # 100 # 1.0 # 0.5 \r\n",
    "\r\n",
    "all_fees = np.zeros(num_risky_assets + 1)\r\n",
    "all_fees[0] = fee_bond\r\n",
    "all_fees[1:] = fee_stock\r\n",
    "Omega_mat = np.diag(all_fees)\r\n",
    "\r\n",
    "# model parameters\r\n",
    "lambd = 0.001 \r\n",
    "Omega_mat = 15.5 * np.diag(all_fees) \r\n",
    "eta = 1.5 \r\n",
    "\r\n",
    "beta = 100.0\r\n",
    "gamma = 0.95 \r\n",
    "\r\n",
    "exp_returns = expected_risky_returns\r\n",
    "\r\n",
    "Sigma_r = cov_mat_r\r\n",
    "\r\n",
    "# Generate the benchmark target portfolio by growing the initial portfolio value at rate eta\r\n",
    "target_return =  0.5\r\n",
    "benchmark_portf = [ init_cash   * np.exp(dt * target_return)]\r\n",
    "\r\n",
    "rho = 0.4 \r\n",
    "\r\n",
    "for i in range(1,num_steps):\r\n",
    "    benchmark_portf.append(benchmark_portf[i-1]*np.exp(dt * target_return) )\r\n",
    "    \r\n",
    "print(benchmark_portf[0], benchmark_portf[-1])"
   ],
   "outputs": [
    {
     "output_type": "stream",
     "name": "stdout",
     "text": [
      "1133.1484530668263 3490.3429574618413\n"
     ]
    }
   ],
   "metadata": {
    "colab": {
     "base_uri": "https://localhost:8080/",
     "height": 34
    },
    "colab_type": "code",
    "id": "5G_Y87m2PQQe",
    "outputId": "0cf27618-1f16-4676-9741-4e2c3ce8d466"
   }
  },
  {
   "cell_type": "markdown",
   "source": [
    "### Simulate portfolio data\n",
    "\n",
    "Produce a list of trajectories, where each trajectory is a list made of state-action pairs"
   ],
   "metadata": {
    "colab_type": "text",
    "id": "YT6003xKPQQm"
   }
  },
  {
   "cell_type": "code",
   "execution_count": 167,
   "source": [
    "lambd = 0.001 \r\n",
    "omega = 1.0 \r\n",
    "beta = 1000.0\r\n",
    "eta = 1.5 # 1.3 # 1.5 # 1.2\r\n",
    "rho = 0.4"
   ],
   "outputs": [],
   "metadata": {
    "colab": {},
    "colab_type": "code",
    "id": "So89W92zPLMq"
   }
  },
  {
   "cell_type": "code",
   "execution_count": 168,
   "source": [
    "reward_params=[lambd, omega, eta, rho]"
   ],
   "outputs": [],
   "metadata": {
    "colab": {},
    "colab_type": "code",
    "id": "lCzgn95o8wUD"
   }
  },
  {
   "cell_type": "code",
   "execution_count": 169,
   "source": [
    "# Create a G-learner\r\n",
    "G_learner = G_learning_portfolio_opt(num_steps,\r\n",
    "                 reward_params,  \r\n",
    "                 beta,                \r\n",
    "                 benchmark_portf,\r\n",
    "                 gamma, \r\n",
    "                 num_risky_assets,\r\n",
    "                 riskfree_rate,\r\n",
    "                 expected_risky_returns, # array of shape num_steps x num_stocks\r\n",
    "                 Sigma_r,     # covariance matrix of returns of risky matrix                    \r\n",
    "                 x_vals_init, # array of initial values of len (num_stocks+1)\r\n",
    "                 use_for_WM = True) # use for wealth management tasks"
   ],
   "outputs": [],
   "metadata": {
    "colab": {},
    "colab_type": "code",
    "id": "58NX65KOPQRD"
   }
  },
  {
   "cell_type": "code",
   "execution_count": 170,
   "source": [
    "G_learner.reset_prior_policy()\r\n",
    "error_tol=1.e-8 \r\n",
    "max_iter_RL = 200\r\n",
    "G_learner.G_learning(error_tol, max_iter_RL)"
   ],
   "outputs": [
    {
     "output_type": "stream",
     "name": "stdout",
     "text": [
      "Doing G-learning, it may take a few seconds...\n"
     ]
    }
   ],
   "metadata": {
    "colab": {
     "base_uri": "https://localhost:8080/",
     "height": 34
    },
    "colab_type": "code",
    "id": "mhy6IPKs7nRq",
    "outputId": "78fbc7d6-2869-48a9-f754-c9ed7c5127c6"
   }
  },
  {
   "cell_type": "code",
   "execution_count": 171,
   "source": [
    "num_sim = 1000\r\n",
    "trajs = []\r\n",
    "np.random.seed(0)\r\n",
    "torch.manual_seed(0)\r\n",
    "t_0 = time.time()\r\n",
    "\r\n",
    "\r\n",
    "x_vals = [x_vals_init]\r\n",
    "returns_all = []\r\n",
    "for n in range(num_sim):\r\n",
    "    this_traj = []\r\n",
    "    x_t = x_vals_init[:]\r\n",
    "    returns_array = []\r\n",
    "    for t in range(0,num_steps):\r\n",
    "        mu_t = G_learner.u_bar_prior[t,:] + G_learner.v_bar_prior[t,:].mv(torch.tensor(x_t))\r\n",
    "        u_t = np.random.multivariate_normal(mu_t.detach().numpy(), G_learner.Sigma_prior[t,:].detach().numpy())\r\n",
    "        # compute new values of x_t\r\n",
    "\r\n",
    "        x_next = x_t +u_t\r\n",
    "        # grow this with random return\r\n",
    "        \r\n",
    "        idiosync_vol =  0.05 # vol_market     \r\n",
    "        rand_norm = np.random.randn(num_risky_assets)\r\n",
    "        \r\n",
    "        # asset returns are simulated from a one-factor model\r\n",
    "        risky_asset_returns = (expected_risky_returns[t,:] + beta_vals * (returns_market[t] - mu_market * dt) \r\n",
    "                         + idiosync_vol * np.sqrt(1 - beta_vals**2) * np.sqrt(dt) * rand_norm)\r\n",
    "        \r\n",
    "        returns = np.hstack((riskfree_rate*dt, risky_asset_returns))\r\n",
    "        \r\n",
    "        x_next = (1+returns)*x_next\r\n",
    "        port_returns=(x_next.sum() -x_t.sum() -np.sum(u_t) - 0.015*np.abs(u_t).sum())/x_t.sum()\r\n",
    "        \r\n",
    "        this_traj.append((x_t, u_t))\r\n",
    "        \r\n",
    "        # rename\r\n",
    "        x_t = x_next\r\n",
    "        returns_array.append(port_returns) \r\n",
    "    # end the loop over time steps\r\n",
    "    trajs.append(this_traj)\r\n",
    "    returns_all.append(returns_array)\r\n",
    "\r\n",
    "print('Done simulating trajectories in %f sec'% (time.time() - t_0))        "
   ],
   "outputs": [
    {
     "output_type": "stream",
     "name": "stdout",
     "text": [
      "Done simulating trajectories in 31.287447 sec\n"
     ]
    }
   ],
   "metadata": {
    "colab": {
     "base_uri": "https://localhost:8080/",
     "height": 34
    },
    "colab_type": "code",
    "id": "ZJbI_k9mPQQo",
    "outputId": "45fc8ba1-fb6d-450b-8502-b96ffa56419a"
   }
  },
  {
   "cell_type": "markdown",
   "source": [
    "### Calculate performance of G-learner (Diagnostics only)"
   ],
   "metadata": {
    "colab_type": "text",
    "id": "bpnem5H5vZ5H"
   }
  },
  {
   "cell_type": "code",
   "execution_count": 172,
   "source": [
    "returns_all_G = returns_all"
   ],
   "outputs": [],
   "metadata": {
    "colab": {},
    "colab_type": "code",
    "id": "4Z731JGirsdV"
   }
  },
  {
   "cell_type": "code",
   "execution_count": 173,
   "source": [
    "SR_G = 0\r\n",
    "for i in range(num_sim):\r\n",
    "    SR_G += (np.mean(returns_all_G[i])-riskfree_rate*dt)/np.std(returns_all_G[i])\r\n",
    "\r\n",
    "SR_G/=num_sim\r\n",
    "print(SR_G)"
   ],
   "outputs": [
    {
     "output_type": "stream",
     "name": "stdout",
     "text": [
      "0.184076991099629\n"
     ]
    }
   ],
   "metadata": {
    "colab": {
     "base_uri": "https://localhost:8080/",
     "height": 34
    },
    "colab_type": "code",
    "id": "UIYUAIWvO04X",
    "outputId": "7e9f5055-b670-4a22-c6cf-d8082c03c9c6"
   }
  },
  {
   "cell_type": "code",
   "execution_count": 174,
   "source": [
    "r_G = np.array([0]*num_steps, dtype='float64')\r\n",
    "for n in range(num_steps):\r\n",
    "    for i in range(num_sim):\r\n",
    "        r_G[n]+=returns_all_G[i][n]\r\n",
    "    r_G[n]/=num_sim\r\n"
   ],
   "outputs": [],
   "metadata": {
    "colab": {},
    "colab_type": "code",
    "id": "TT9dIJP_t0K_"
   }
  },
  {
   "cell_type": "code",
   "execution_count": 175,
   "source": [
    "import plotly.express as px \r\n",
    "import plotly.graph_objects as go \r\n",
    "\r\n",
    "\r\n",
    "\r\n",
    "fig = go.Figure()\r\n",
    "fig.add_trace(go.Scatter(y = r_G,\r\n",
    "                         name = 'expected return'))\r\n",
    "\r\n",
    "fig.update_layout(title='Resultes: averaged returns of G-learner trajectories',\r\n",
    "                   xaxis_title='Time Steps',\r\n",
    "                   yaxis_title='Sample Mean Returns')\r\n",
    "\r\n",
    "fig.show()"
   ],
   "outputs": [
    {
     "output_type": "display_data",
     "data": {
      "application/vnd.plotly.v1+json": {
       "config": {
        "plotlyServerURL": "https://plot.ly"
       },
       "data": [
        {
         "name": "expected return",
         "type": "scatter",
         "y": [
          0.008187096944557867,
          -0.06364275082255441,
          0.04348180480695392,
          -0.030401097663267315,
          0.06128587733816721,
          -0.06518513989051243,
          0.2197269322655459,
          0.039332585773856815,
          0.034184804386413685,
          -0.04917560326692411
         ]
        }
       ],
       "layout": {
        "template": {
         "data": {
          "bar": [
           {
            "error_x": {
             "color": "#2a3f5f"
            },
            "error_y": {
             "color": "#2a3f5f"
            },
            "marker": {
             "line": {
              "color": "#E5ECF6",
              "width": 0.5
             },
             "pattern": {
              "fillmode": "overlay",
              "size": 10,
              "solidity": 0.2
             }
            },
            "type": "bar"
           }
          ],
          "barpolar": [
           {
            "marker": {
             "line": {
              "color": "#E5ECF6",
              "width": 0.5
             },
             "pattern": {
              "fillmode": "overlay",
              "size": 10,
              "solidity": 0.2
             }
            },
            "type": "barpolar"
           }
          ],
          "carpet": [
           {
            "aaxis": {
             "endlinecolor": "#2a3f5f",
             "gridcolor": "white",
             "linecolor": "white",
             "minorgridcolor": "white",
             "startlinecolor": "#2a3f5f"
            },
            "baxis": {
             "endlinecolor": "#2a3f5f",
             "gridcolor": "white",
             "linecolor": "white",
             "minorgridcolor": "white",
             "startlinecolor": "#2a3f5f"
            },
            "type": "carpet"
           }
          ],
          "choropleth": [
           {
            "colorbar": {
             "outlinewidth": 0,
             "ticks": ""
            },
            "type": "choropleth"
           }
          ],
          "contour": [
           {
            "colorbar": {
             "outlinewidth": 0,
             "ticks": ""
            },
            "colorscale": [
             [
              0,
              "#0d0887"
             ],
             [
              0.1111111111111111,
              "#46039f"
             ],
             [
              0.2222222222222222,
              "#7201a8"
             ],
             [
              0.3333333333333333,
              "#9c179e"
             ],
             [
              0.4444444444444444,
              "#bd3786"
             ],
             [
              0.5555555555555556,
              "#d8576b"
             ],
             [
              0.6666666666666666,
              "#ed7953"
             ],
             [
              0.7777777777777778,
              "#fb9f3a"
             ],
             [
              0.8888888888888888,
              "#fdca26"
             ],
             [
              1,
              "#f0f921"
             ]
            ],
            "type": "contour"
           }
          ],
          "contourcarpet": [
           {
            "colorbar": {
             "outlinewidth": 0,
             "ticks": ""
            },
            "type": "contourcarpet"
           }
          ],
          "heatmap": [
           {
            "colorbar": {
             "outlinewidth": 0,
             "ticks": ""
            },
            "colorscale": [
             [
              0,
              "#0d0887"
             ],
             [
              0.1111111111111111,
              "#46039f"
             ],
             [
              0.2222222222222222,
              "#7201a8"
             ],
             [
              0.3333333333333333,
              "#9c179e"
             ],
             [
              0.4444444444444444,
              "#bd3786"
             ],
             [
              0.5555555555555556,
              "#d8576b"
             ],
             [
              0.6666666666666666,
              "#ed7953"
             ],
             [
              0.7777777777777778,
              "#fb9f3a"
             ],
             [
              0.8888888888888888,
              "#fdca26"
             ],
             [
              1,
              "#f0f921"
             ]
            ],
            "type": "heatmap"
           }
          ],
          "heatmapgl": [
           {
            "colorbar": {
             "outlinewidth": 0,
             "ticks": ""
            },
            "colorscale": [
             [
              0,
              "#0d0887"
             ],
             [
              0.1111111111111111,
              "#46039f"
             ],
             [
              0.2222222222222222,
              "#7201a8"
             ],
             [
              0.3333333333333333,
              "#9c179e"
             ],
             [
              0.4444444444444444,
              "#bd3786"
             ],
             [
              0.5555555555555556,
              "#d8576b"
             ],
             [
              0.6666666666666666,
              "#ed7953"
             ],
             [
              0.7777777777777778,
              "#fb9f3a"
             ],
             [
              0.8888888888888888,
              "#fdca26"
             ],
             [
              1,
              "#f0f921"
             ]
            ],
            "type": "heatmapgl"
           }
          ],
          "histogram": [
           {
            "marker": {
             "pattern": {
              "fillmode": "overlay",
              "size": 10,
              "solidity": 0.2
             }
            },
            "type": "histogram"
           }
          ],
          "histogram2d": [
           {
            "colorbar": {
             "outlinewidth": 0,
             "ticks": ""
            },
            "colorscale": [
             [
              0,
              "#0d0887"
             ],
             [
              0.1111111111111111,
              "#46039f"
             ],
             [
              0.2222222222222222,
              "#7201a8"
             ],
             [
              0.3333333333333333,
              "#9c179e"
             ],
             [
              0.4444444444444444,
              "#bd3786"
             ],
             [
              0.5555555555555556,
              "#d8576b"
             ],
             [
              0.6666666666666666,
              "#ed7953"
             ],
             [
              0.7777777777777778,
              "#fb9f3a"
             ],
             [
              0.8888888888888888,
              "#fdca26"
             ],
             [
              1,
              "#f0f921"
             ]
            ],
            "type": "histogram2d"
           }
          ],
          "histogram2dcontour": [
           {
            "colorbar": {
             "outlinewidth": 0,
             "ticks": ""
            },
            "colorscale": [
             [
              0,
              "#0d0887"
             ],
             [
              0.1111111111111111,
              "#46039f"
             ],
             [
              0.2222222222222222,
              "#7201a8"
             ],
             [
              0.3333333333333333,
              "#9c179e"
             ],
             [
              0.4444444444444444,
              "#bd3786"
             ],
             [
              0.5555555555555556,
              "#d8576b"
             ],
             [
              0.6666666666666666,
              "#ed7953"
             ],
             [
              0.7777777777777778,
              "#fb9f3a"
             ],
             [
              0.8888888888888888,
              "#fdca26"
             ],
             [
              1,
              "#f0f921"
             ]
            ],
            "type": "histogram2dcontour"
           }
          ],
          "mesh3d": [
           {
            "colorbar": {
             "outlinewidth": 0,
             "ticks": ""
            },
            "type": "mesh3d"
           }
          ],
          "parcoords": [
           {
            "line": {
             "colorbar": {
              "outlinewidth": 0,
              "ticks": ""
             }
            },
            "type": "parcoords"
           }
          ],
          "pie": [
           {
            "automargin": true,
            "type": "pie"
           }
          ],
          "scatter": [
           {
            "marker": {
             "colorbar": {
              "outlinewidth": 0,
              "ticks": ""
             }
            },
            "type": "scatter"
           }
          ],
          "scatter3d": [
           {
            "line": {
             "colorbar": {
              "outlinewidth": 0,
              "ticks": ""
             }
            },
            "marker": {
             "colorbar": {
              "outlinewidth": 0,
              "ticks": ""
             }
            },
            "type": "scatter3d"
           }
          ],
          "scattercarpet": [
           {
            "marker": {
             "colorbar": {
              "outlinewidth": 0,
              "ticks": ""
             }
            },
            "type": "scattercarpet"
           }
          ],
          "scattergeo": [
           {
            "marker": {
             "colorbar": {
              "outlinewidth": 0,
              "ticks": ""
             }
            },
            "type": "scattergeo"
           }
          ],
          "scattergl": [
           {
            "marker": {
             "colorbar": {
              "outlinewidth": 0,
              "ticks": ""
             }
            },
            "type": "scattergl"
           }
          ],
          "scattermapbox": [
           {
            "marker": {
             "colorbar": {
              "outlinewidth": 0,
              "ticks": ""
             }
            },
            "type": "scattermapbox"
           }
          ],
          "scatterpolar": [
           {
            "marker": {
             "colorbar": {
              "outlinewidth": 0,
              "ticks": ""
             }
            },
            "type": "scatterpolar"
           }
          ],
          "scatterpolargl": [
           {
            "marker": {
             "colorbar": {
              "outlinewidth": 0,
              "ticks": ""
             }
            },
            "type": "scatterpolargl"
           }
          ],
          "scatterternary": [
           {
            "marker": {
             "colorbar": {
              "outlinewidth": 0,
              "ticks": ""
             }
            },
            "type": "scatterternary"
           }
          ],
          "surface": [
           {
            "colorbar": {
             "outlinewidth": 0,
             "ticks": ""
            },
            "colorscale": [
             [
              0,
              "#0d0887"
             ],
             [
              0.1111111111111111,
              "#46039f"
             ],
             [
              0.2222222222222222,
              "#7201a8"
             ],
             [
              0.3333333333333333,
              "#9c179e"
             ],
             [
              0.4444444444444444,
              "#bd3786"
             ],
             [
              0.5555555555555556,
              "#d8576b"
             ],
             [
              0.6666666666666666,
              "#ed7953"
             ],
             [
              0.7777777777777778,
              "#fb9f3a"
             ],
             [
              0.8888888888888888,
              "#fdca26"
             ],
             [
              1,
              "#f0f921"
             ]
            ],
            "type": "surface"
           }
          ],
          "table": [
           {
            "cells": {
             "fill": {
              "color": "#EBF0F8"
             },
             "line": {
              "color": "white"
             }
            },
            "header": {
             "fill": {
              "color": "#C8D4E3"
             },
             "line": {
              "color": "white"
             }
            },
            "type": "table"
           }
          ]
         },
         "layout": {
          "annotationdefaults": {
           "arrowcolor": "#2a3f5f",
           "arrowhead": 0,
           "arrowwidth": 1
          },
          "autotypenumbers": "strict",
          "coloraxis": {
           "colorbar": {
            "outlinewidth": 0,
            "ticks": ""
           }
          },
          "colorscale": {
           "diverging": [
            [
             0,
             "#8e0152"
            ],
            [
             0.1,
             "#c51b7d"
            ],
            [
             0.2,
             "#de77ae"
            ],
            [
             0.3,
             "#f1b6da"
            ],
            [
             0.4,
             "#fde0ef"
            ],
            [
             0.5,
             "#f7f7f7"
            ],
            [
             0.6,
             "#e6f5d0"
            ],
            [
             0.7,
             "#b8e186"
            ],
            [
             0.8,
             "#7fbc41"
            ],
            [
             0.9,
             "#4d9221"
            ],
            [
             1,
             "#276419"
            ]
           ],
           "sequential": [
            [
             0,
             "#0d0887"
            ],
            [
             0.1111111111111111,
             "#46039f"
            ],
            [
             0.2222222222222222,
             "#7201a8"
            ],
            [
             0.3333333333333333,
             "#9c179e"
            ],
            [
             0.4444444444444444,
             "#bd3786"
            ],
            [
             0.5555555555555556,
             "#d8576b"
            ],
            [
             0.6666666666666666,
             "#ed7953"
            ],
            [
             0.7777777777777778,
             "#fb9f3a"
            ],
            [
             0.8888888888888888,
             "#fdca26"
            ],
            [
             1,
             "#f0f921"
            ]
           ],
           "sequentialminus": [
            [
             0,
             "#0d0887"
            ],
            [
             0.1111111111111111,
             "#46039f"
            ],
            [
             0.2222222222222222,
             "#7201a8"
            ],
            [
             0.3333333333333333,
             "#9c179e"
            ],
            [
             0.4444444444444444,
             "#bd3786"
            ],
            [
             0.5555555555555556,
             "#d8576b"
            ],
            [
             0.6666666666666666,
             "#ed7953"
            ],
            [
             0.7777777777777778,
             "#fb9f3a"
            ],
            [
             0.8888888888888888,
             "#fdca26"
            ],
            [
             1,
             "#f0f921"
            ]
           ]
          },
          "colorway": [
           "#636efa",
           "#EF553B",
           "#00cc96",
           "#ab63fa",
           "#FFA15A",
           "#19d3f3",
           "#FF6692",
           "#B6E880",
           "#FF97FF",
           "#FECB52"
          ],
          "font": {
           "color": "#2a3f5f"
          },
          "geo": {
           "bgcolor": "white",
           "lakecolor": "white",
           "landcolor": "#E5ECF6",
           "showlakes": true,
           "showland": true,
           "subunitcolor": "white"
          },
          "hoverlabel": {
           "align": "left"
          },
          "hovermode": "closest",
          "mapbox": {
           "style": "light"
          },
          "paper_bgcolor": "white",
          "plot_bgcolor": "#E5ECF6",
          "polar": {
           "angularaxis": {
            "gridcolor": "white",
            "linecolor": "white",
            "ticks": ""
           },
           "bgcolor": "#E5ECF6",
           "radialaxis": {
            "gridcolor": "white",
            "linecolor": "white",
            "ticks": ""
           }
          },
          "scene": {
           "xaxis": {
            "backgroundcolor": "#E5ECF6",
            "gridcolor": "white",
            "gridwidth": 2,
            "linecolor": "white",
            "showbackground": true,
            "ticks": "",
            "zerolinecolor": "white"
           },
           "yaxis": {
            "backgroundcolor": "#E5ECF6",
            "gridcolor": "white",
            "gridwidth": 2,
            "linecolor": "white",
            "showbackground": true,
            "ticks": "",
            "zerolinecolor": "white"
           },
           "zaxis": {
            "backgroundcolor": "#E5ECF6",
            "gridcolor": "white",
            "gridwidth": 2,
            "linecolor": "white",
            "showbackground": true,
            "ticks": "",
            "zerolinecolor": "white"
           }
          },
          "shapedefaults": {
           "line": {
            "color": "#2a3f5f"
           }
          },
          "ternary": {
           "aaxis": {
            "gridcolor": "white",
            "linecolor": "white",
            "ticks": ""
           },
           "baxis": {
            "gridcolor": "white",
            "linecolor": "white",
            "ticks": ""
           },
           "bgcolor": "#E5ECF6",
           "caxis": {
            "gridcolor": "white",
            "linecolor": "white",
            "ticks": ""
           }
          },
          "title": {
           "x": 0.05
          },
          "xaxis": {
           "automargin": true,
           "gridcolor": "white",
           "linecolor": "white",
           "ticks": "",
           "title": {
            "standoff": 15
           },
           "zerolinecolor": "white",
           "zerolinewidth": 2
          },
          "yaxis": {
           "automargin": true,
           "gridcolor": "white",
           "linecolor": "white",
           "ticks": "",
           "title": {
            "standoff": 15
           },
           "zerolinecolor": "white",
           "zerolinewidth": 2
          }
         }
        },
        "title": {
         "text": "Resultes: averaged returns of G-learner trajectories"
        },
        "xaxis": {
         "title": {
          "text": "Time Steps"
         }
        },
        "yaxis": {
         "title": {
          "text": "Sample Mean Returns"
         }
        }
       }
      }
     },
     "metadata": {}
    }
   ],
   "metadata": {}
  },
  {
   "cell_type": "code",
   "execution_count": 176,
   "source": [
    "np.save('State_act_trajs.npy', trajs)"
   ],
   "outputs": [],
   "metadata": {
    "colab": {},
    "colab_type": "code",
    "id": "aTWkeFsDPQQu"
   }
  },
  {
   "cell_type": "code",
   "execution_count": 177,
   "source": [
    "#trajs = np.load('State_act_trajs.npy')"
   ],
   "outputs": [],
   "metadata": {
    "colab": {
     "base_uri": "https://localhost:8080/",
     "height": 286
    },
    "colab_type": "code",
    "id": "SNtCvuFMPQQ0",
    "outputId": "2f12bdef-6454-4811-9d4b-5ee128b9f596"
   }
  },
  {
   "cell_type": "markdown",
   "source": [
    "## Plot rewards and cash installments"
   ],
   "metadata": {
    "colab_type": "text",
    "id": "RysHrlg3yDyP"
   }
  },
  {
   "cell_type": "markdown",
   "source": [
    "We can plot the learng rewards and observe the required cash installements from the G-learner model "
   ],
   "metadata": {}
  },
  {
   "cell_type": "code",
   "execution_count": 178,
   "source": [
    "reward_params=[lambd, omega, eta, rho]\r\n",
    "G_learner = G_learning_portfolio_opt(num_steps,\r\n",
    "                                      reward_params,\r\n",
    "                                      beta,\r\n",
    "                                      benchmark_portf,\r\n",
    "                                      gamma,\r\n",
    "                                      num_risky_assets,\r\n",
    "                                      riskfree_rate,\r\n",
    "                                      expected_risky_returns,\r\n",
    "                                      Sigma_r,\r\n",
    "                                      x_vals_init,\r\n",
    "                                      use_for_WM=True)"
   ],
   "outputs": [],
   "metadata": {
    "colab": {},
    "colab_type": "code",
    "id": "pcU6SnH5JsC0"
   }
  },
  {
   "cell_type": "code",
   "execution_count": 179,
   "source": [
    "err_tol = 1.e-10 \r\n",
    "max_iter = 500\r\n",
    "\r\n",
    "t_0 = time.time()\r\n",
    "G_learner.reset_prior_policy()\r\n",
    "G_learner.G_learning(err_tol=err_tol, max_iter=max_iter)\r\n",
    "num_trajs = len(trajs)\r\n",
    "\r\n",
    "data_xvals = torch.zeros(num_trajs,  num_steps, num_assets, dtype=torch.float64, requires_grad=False)\r\n",
    "data_uvals = torch.zeros(num_trajs,  num_steps, num_assets, dtype=torch.float64, requires_grad=False)\r\n",
    "num_trajs = len(trajs)       \r\n",
    "for n in range(num_trajs):\r\n",
    "        for t in range(num_steps):\r\n",
    "            data_xvals[n,t,:] = torch.tensor(trajs[n][t][0],dtype=torch.float64)\r\n",
    "            data_uvals[n,t,:] = torch.tensor(trajs[n][t][1],dtype=torch.float64)\r\n",
    "\r\n",
    "realized_rewards = torch.zeros(num_trajs, num_steps, dtype=torch.float64, requires_grad=False)\r\n",
    "realized_cum_rewards = torch.zeros(num_trajs, dtype=torch.float64, requires_grad=False)\r\n",
    "\r\n",
    "realized_G_fun = torch.zeros(num_trajs, num_steps, dtype=torch.float64, requires_grad=False)\r\n",
    "realized_F_fun  = torch.zeros(num_trajs,  num_steps, dtype=torch.float64, requires_grad=False)\r\n",
    "\r\n",
    "realized_G_fun_cum = torch.zeros(num_trajs, dtype=torch.float64, requires_grad=False)  \r\n",
    "realized_F_fun_cum = torch.zeros(num_trajs, dtype=torch.float64, requires_grad=False)         \r\n",
    "\r\n",
    "# compute the rewards and realized values of G- and F-functions from \r\n",
    "# all trajectories\r\n",
    "for n in range(num_trajs):\r\n",
    "    for t in range(num_steps):\r\n",
    "                \r\n",
    "                realized_rewards[n,t] = G_learner.compute_reward_on_traj(t,\r\n",
    "                                data_xvals[n,t,:], data_uvals[n,t,:])\r\n",
    "\r\n",
    "                realized_G_fun[n,t] = G_learner.compute_G_fun_on_traj(t,\r\n",
    "                                data_xvals[n,t,:], data_uvals[n,t,:])\r\n",
    "\r\n",
    "                realized_F_fun[n,t] = G_learner.compute_F_fun_on_traj(t,\r\n",
    "                                data_xvals[n,t,:])\r\n",
    "                 \r\n",
    "    realized_cum_rewards[n] = realized_rewards[n,:].sum()\r\n",
    "    realized_G_fun_cum[n] = realized_G_fun[n,:].sum()\r\n",
    "    realized_F_fun_cum[n] = realized_F_fun[n,:].sum()\r\n",
    "\r\n",
    "print('Done in %f sec'% (time.time() - t_0))\r\n"
   ],
   "outputs": [
    {
     "output_type": "stream",
     "name": "stdout",
     "text": [
      "Doing G-learning, it may take a few seconds...\n",
      "Done in 10.535850 sec\n"
     ]
    }
   ],
   "metadata": {
    "colab": {
     "base_uri": "https://localhost:8080/",
     "height": 52
    },
    "colab_type": "code",
    "id": "JiAyHd94PQRI",
    "outputId": "5c91e69d-0356-46c0-9013-71056b894952"
   }
  },
  {
   "cell_type": "code",
   "execution_count": null,
   "source": [],
   "outputs": [],
   "metadata": {}
  },
  {
   "cell_type": "code",
   "execution_count": 180,
   "source": [
    "import plotly.express as px \r\n",
    "import plotly.graph_objects as go \r\n",
    "\r\n",
    "fig = go.Figure()\r\n",
    "fig.add_trace(go.Scatter(y = realized_rewards.detach().numpy()[1],\r\n",
    "                         name = 'realized rewards'))\r\n",
    "fig.update_layout(title='Realized rewards',\r\n",
    "                   xaxis_title='Time Steps',\r\n",
    "                   yaxis_title='Realized rewards')\r\n",
    "\r\n"
   ],
   "outputs": [
    {
     "output_type": "display_data",
     "data": {
      "application/vnd.plotly.v1+json": {
       "config": {
        "plotlyServerURL": "https://plot.ly"
       },
       "data": [
        {
         "name": "realized rewards",
         "type": "scatter",
         "y": [
          -177.83453268542848,
          -215.02250505819404,
          -273.1185189586701,
          -325.73487555737745,
          -414.16525572071964,
          -533.2259962036715,
          -677.4023498571644,
          -783.130472501214,
          -1077.469493575134,
          -1584.8621750175412
         ]
        }
       ],
       "layout": {
        "template": {
         "data": {
          "bar": [
           {
            "error_x": {
             "color": "#2a3f5f"
            },
            "error_y": {
             "color": "#2a3f5f"
            },
            "marker": {
             "line": {
              "color": "#E5ECF6",
              "width": 0.5
             },
             "pattern": {
              "fillmode": "overlay",
              "size": 10,
              "solidity": 0.2
             }
            },
            "type": "bar"
           }
          ],
          "barpolar": [
           {
            "marker": {
             "line": {
              "color": "#E5ECF6",
              "width": 0.5
             },
             "pattern": {
              "fillmode": "overlay",
              "size": 10,
              "solidity": 0.2
             }
            },
            "type": "barpolar"
           }
          ],
          "carpet": [
           {
            "aaxis": {
             "endlinecolor": "#2a3f5f",
             "gridcolor": "white",
             "linecolor": "white",
             "minorgridcolor": "white",
             "startlinecolor": "#2a3f5f"
            },
            "baxis": {
             "endlinecolor": "#2a3f5f",
             "gridcolor": "white",
             "linecolor": "white",
             "minorgridcolor": "white",
             "startlinecolor": "#2a3f5f"
            },
            "type": "carpet"
           }
          ],
          "choropleth": [
           {
            "colorbar": {
             "outlinewidth": 0,
             "ticks": ""
            },
            "type": "choropleth"
           }
          ],
          "contour": [
           {
            "colorbar": {
             "outlinewidth": 0,
             "ticks": ""
            },
            "colorscale": [
             [
              0,
              "#0d0887"
             ],
             [
              0.1111111111111111,
              "#46039f"
             ],
             [
              0.2222222222222222,
              "#7201a8"
             ],
             [
              0.3333333333333333,
              "#9c179e"
             ],
             [
              0.4444444444444444,
              "#bd3786"
             ],
             [
              0.5555555555555556,
              "#d8576b"
             ],
             [
              0.6666666666666666,
              "#ed7953"
             ],
             [
              0.7777777777777778,
              "#fb9f3a"
             ],
             [
              0.8888888888888888,
              "#fdca26"
             ],
             [
              1,
              "#f0f921"
             ]
            ],
            "type": "contour"
           }
          ],
          "contourcarpet": [
           {
            "colorbar": {
             "outlinewidth": 0,
             "ticks": ""
            },
            "type": "contourcarpet"
           }
          ],
          "heatmap": [
           {
            "colorbar": {
             "outlinewidth": 0,
             "ticks": ""
            },
            "colorscale": [
             [
              0,
              "#0d0887"
             ],
             [
              0.1111111111111111,
              "#46039f"
             ],
             [
              0.2222222222222222,
              "#7201a8"
             ],
             [
              0.3333333333333333,
              "#9c179e"
             ],
             [
              0.4444444444444444,
              "#bd3786"
             ],
             [
              0.5555555555555556,
              "#d8576b"
             ],
             [
              0.6666666666666666,
              "#ed7953"
             ],
             [
              0.7777777777777778,
              "#fb9f3a"
             ],
             [
              0.8888888888888888,
              "#fdca26"
             ],
             [
              1,
              "#f0f921"
             ]
            ],
            "type": "heatmap"
           }
          ],
          "heatmapgl": [
           {
            "colorbar": {
             "outlinewidth": 0,
             "ticks": ""
            },
            "colorscale": [
             [
              0,
              "#0d0887"
             ],
             [
              0.1111111111111111,
              "#46039f"
             ],
             [
              0.2222222222222222,
              "#7201a8"
             ],
             [
              0.3333333333333333,
              "#9c179e"
             ],
             [
              0.4444444444444444,
              "#bd3786"
             ],
             [
              0.5555555555555556,
              "#d8576b"
             ],
             [
              0.6666666666666666,
              "#ed7953"
             ],
             [
              0.7777777777777778,
              "#fb9f3a"
             ],
             [
              0.8888888888888888,
              "#fdca26"
             ],
             [
              1,
              "#f0f921"
             ]
            ],
            "type": "heatmapgl"
           }
          ],
          "histogram": [
           {
            "marker": {
             "pattern": {
              "fillmode": "overlay",
              "size": 10,
              "solidity": 0.2
             }
            },
            "type": "histogram"
           }
          ],
          "histogram2d": [
           {
            "colorbar": {
             "outlinewidth": 0,
             "ticks": ""
            },
            "colorscale": [
             [
              0,
              "#0d0887"
             ],
             [
              0.1111111111111111,
              "#46039f"
             ],
             [
              0.2222222222222222,
              "#7201a8"
             ],
             [
              0.3333333333333333,
              "#9c179e"
             ],
             [
              0.4444444444444444,
              "#bd3786"
             ],
             [
              0.5555555555555556,
              "#d8576b"
             ],
             [
              0.6666666666666666,
              "#ed7953"
             ],
             [
              0.7777777777777778,
              "#fb9f3a"
             ],
             [
              0.8888888888888888,
              "#fdca26"
             ],
             [
              1,
              "#f0f921"
             ]
            ],
            "type": "histogram2d"
           }
          ],
          "histogram2dcontour": [
           {
            "colorbar": {
             "outlinewidth": 0,
             "ticks": ""
            },
            "colorscale": [
             [
              0,
              "#0d0887"
             ],
             [
              0.1111111111111111,
              "#46039f"
             ],
             [
              0.2222222222222222,
              "#7201a8"
             ],
             [
              0.3333333333333333,
              "#9c179e"
             ],
             [
              0.4444444444444444,
              "#bd3786"
             ],
             [
              0.5555555555555556,
              "#d8576b"
             ],
             [
              0.6666666666666666,
              "#ed7953"
             ],
             [
              0.7777777777777778,
              "#fb9f3a"
             ],
             [
              0.8888888888888888,
              "#fdca26"
             ],
             [
              1,
              "#f0f921"
             ]
            ],
            "type": "histogram2dcontour"
           }
          ],
          "mesh3d": [
           {
            "colorbar": {
             "outlinewidth": 0,
             "ticks": ""
            },
            "type": "mesh3d"
           }
          ],
          "parcoords": [
           {
            "line": {
             "colorbar": {
              "outlinewidth": 0,
              "ticks": ""
             }
            },
            "type": "parcoords"
           }
          ],
          "pie": [
           {
            "automargin": true,
            "type": "pie"
           }
          ],
          "scatter": [
           {
            "marker": {
             "colorbar": {
              "outlinewidth": 0,
              "ticks": ""
             }
            },
            "type": "scatter"
           }
          ],
          "scatter3d": [
           {
            "line": {
             "colorbar": {
              "outlinewidth": 0,
              "ticks": ""
             }
            },
            "marker": {
             "colorbar": {
              "outlinewidth": 0,
              "ticks": ""
             }
            },
            "type": "scatter3d"
           }
          ],
          "scattercarpet": [
           {
            "marker": {
             "colorbar": {
              "outlinewidth": 0,
              "ticks": ""
             }
            },
            "type": "scattercarpet"
           }
          ],
          "scattergeo": [
           {
            "marker": {
             "colorbar": {
              "outlinewidth": 0,
              "ticks": ""
             }
            },
            "type": "scattergeo"
           }
          ],
          "scattergl": [
           {
            "marker": {
             "colorbar": {
              "outlinewidth": 0,
              "ticks": ""
             }
            },
            "type": "scattergl"
           }
          ],
          "scattermapbox": [
           {
            "marker": {
             "colorbar": {
              "outlinewidth": 0,
              "ticks": ""
             }
            },
            "type": "scattermapbox"
           }
          ],
          "scatterpolar": [
           {
            "marker": {
             "colorbar": {
              "outlinewidth": 0,
              "ticks": ""
             }
            },
            "type": "scatterpolar"
           }
          ],
          "scatterpolargl": [
           {
            "marker": {
             "colorbar": {
              "outlinewidth": 0,
              "ticks": ""
             }
            },
            "type": "scatterpolargl"
           }
          ],
          "scatterternary": [
           {
            "marker": {
             "colorbar": {
              "outlinewidth": 0,
              "ticks": ""
             }
            },
            "type": "scatterternary"
           }
          ],
          "surface": [
           {
            "colorbar": {
             "outlinewidth": 0,
             "ticks": ""
            },
            "colorscale": [
             [
              0,
              "#0d0887"
             ],
             [
              0.1111111111111111,
              "#46039f"
             ],
             [
              0.2222222222222222,
              "#7201a8"
             ],
             [
              0.3333333333333333,
              "#9c179e"
             ],
             [
              0.4444444444444444,
              "#bd3786"
             ],
             [
              0.5555555555555556,
              "#d8576b"
             ],
             [
              0.6666666666666666,
              "#ed7953"
             ],
             [
              0.7777777777777778,
              "#fb9f3a"
             ],
             [
              0.8888888888888888,
              "#fdca26"
             ],
             [
              1,
              "#f0f921"
             ]
            ],
            "type": "surface"
           }
          ],
          "table": [
           {
            "cells": {
             "fill": {
              "color": "#EBF0F8"
             },
             "line": {
              "color": "white"
             }
            },
            "header": {
             "fill": {
              "color": "#C8D4E3"
             },
             "line": {
              "color": "white"
             }
            },
            "type": "table"
           }
          ]
         },
         "layout": {
          "annotationdefaults": {
           "arrowcolor": "#2a3f5f",
           "arrowhead": 0,
           "arrowwidth": 1
          },
          "autotypenumbers": "strict",
          "coloraxis": {
           "colorbar": {
            "outlinewidth": 0,
            "ticks": ""
           }
          },
          "colorscale": {
           "diverging": [
            [
             0,
             "#8e0152"
            ],
            [
             0.1,
             "#c51b7d"
            ],
            [
             0.2,
             "#de77ae"
            ],
            [
             0.3,
             "#f1b6da"
            ],
            [
             0.4,
             "#fde0ef"
            ],
            [
             0.5,
             "#f7f7f7"
            ],
            [
             0.6,
             "#e6f5d0"
            ],
            [
             0.7,
             "#b8e186"
            ],
            [
             0.8,
             "#7fbc41"
            ],
            [
             0.9,
             "#4d9221"
            ],
            [
             1,
             "#276419"
            ]
           ],
           "sequential": [
            [
             0,
             "#0d0887"
            ],
            [
             0.1111111111111111,
             "#46039f"
            ],
            [
             0.2222222222222222,
             "#7201a8"
            ],
            [
             0.3333333333333333,
             "#9c179e"
            ],
            [
             0.4444444444444444,
             "#bd3786"
            ],
            [
             0.5555555555555556,
             "#d8576b"
            ],
            [
             0.6666666666666666,
             "#ed7953"
            ],
            [
             0.7777777777777778,
             "#fb9f3a"
            ],
            [
             0.8888888888888888,
             "#fdca26"
            ],
            [
             1,
             "#f0f921"
            ]
           ],
           "sequentialminus": [
            [
             0,
             "#0d0887"
            ],
            [
             0.1111111111111111,
             "#46039f"
            ],
            [
             0.2222222222222222,
             "#7201a8"
            ],
            [
             0.3333333333333333,
             "#9c179e"
            ],
            [
             0.4444444444444444,
             "#bd3786"
            ],
            [
             0.5555555555555556,
             "#d8576b"
            ],
            [
             0.6666666666666666,
             "#ed7953"
            ],
            [
             0.7777777777777778,
             "#fb9f3a"
            ],
            [
             0.8888888888888888,
             "#fdca26"
            ],
            [
             1,
             "#f0f921"
            ]
           ]
          },
          "colorway": [
           "#636efa",
           "#EF553B",
           "#00cc96",
           "#ab63fa",
           "#FFA15A",
           "#19d3f3",
           "#FF6692",
           "#B6E880",
           "#FF97FF",
           "#FECB52"
          ],
          "font": {
           "color": "#2a3f5f"
          },
          "geo": {
           "bgcolor": "white",
           "lakecolor": "white",
           "landcolor": "#E5ECF6",
           "showlakes": true,
           "showland": true,
           "subunitcolor": "white"
          },
          "hoverlabel": {
           "align": "left"
          },
          "hovermode": "closest",
          "mapbox": {
           "style": "light"
          },
          "paper_bgcolor": "white",
          "plot_bgcolor": "#E5ECF6",
          "polar": {
           "angularaxis": {
            "gridcolor": "white",
            "linecolor": "white",
            "ticks": ""
           },
           "bgcolor": "#E5ECF6",
           "radialaxis": {
            "gridcolor": "white",
            "linecolor": "white",
            "ticks": ""
           }
          },
          "scene": {
           "xaxis": {
            "backgroundcolor": "#E5ECF6",
            "gridcolor": "white",
            "gridwidth": 2,
            "linecolor": "white",
            "showbackground": true,
            "ticks": "",
            "zerolinecolor": "white"
           },
           "yaxis": {
            "backgroundcolor": "#E5ECF6",
            "gridcolor": "white",
            "gridwidth": 2,
            "linecolor": "white",
            "showbackground": true,
            "ticks": "",
            "zerolinecolor": "white"
           },
           "zaxis": {
            "backgroundcolor": "#E5ECF6",
            "gridcolor": "white",
            "gridwidth": 2,
            "linecolor": "white",
            "showbackground": true,
            "ticks": "",
            "zerolinecolor": "white"
           }
          },
          "shapedefaults": {
           "line": {
            "color": "#2a3f5f"
           }
          },
          "ternary": {
           "aaxis": {
            "gridcolor": "white",
            "linecolor": "white",
            "ticks": ""
           },
           "baxis": {
            "gridcolor": "white",
            "linecolor": "white",
            "ticks": ""
           },
           "bgcolor": "#E5ECF6",
           "caxis": {
            "gridcolor": "white",
            "linecolor": "white",
            "ticks": ""
           }
          },
          "title": {
           "x": 0.05
          },
          "xaxis": {
           "automargin": true,
           "gridcolor": "white",
           "linecolor": "white",
           "ticks": "",
           "title": {
            "standoff": 15
           },
           "zerolinecolor": "white",
           "zerolinewidth": 2
          },
          "yaxis": {
           "automargin": true,
           "gridcolor": "white",
           "linecolor": "white",
           "ticks": "",
           "title": {
            "standoff": 15
           },
           "zerolinecolor": "white",
           "zerolinewidth": 2
          }
         }
        },
        "title": {
         "text": "Realized rewards"
        },
        "xaxis": {
         "title": {
          "text": "Time Steps"
         }
        },
        "yaxis": {
         "title": {
          "text": "Realized rewards"
         }
        }
       }
      }
     },
     "metadata": {}
    }
   ],
   "metadata": {}
  },
  {
   "cell_type": "code",
   "execution_count": 181,
   "source": [
    "import plotly.express as px \r\n",
    "import plotly.graph_objects as go \r\n",
    "\r\n",
    "G_learner.project_cash_injections()\r\n",
    "\r\n",
    "eta_ = G_learner.eta.detach().numpy()\r\n",
    "realized_target_portf = eta_ * G_learner.expected_portf_val.numpy()\r\n",
    "\r\n",
    "fig = go.Figure()\r\n",
    "fig.add_trace(go.Scatter(y = G_learner.expected_c_t,\r\n",
    "                         name = 'optimal cash installments'))\r\n",
    "fig.add_trace(go.Scatter(y = G_learner.expected_portf_val,\r\n",
    "                         name = 'expected portfolio value'))\r\n",
    "fig.add_trace(go.Scatter(y = realized_target_portf,\r\n",
    "                         name = 'realized target portfolio'))\r\n",
    "fig.update_layout(title='Realized rewards',\r\n",
    "                   xaxis_title='Time Steps',\r\n",
    "                   yaxis_title='Realized rewards')"
   ],
   "outputs": [
    {
     "output_type": "display_data",
     "data": {
      "application/vnd.plotly.v1+json": {
       "config": {
        "plotlyServerURL": "https://plot.ly"
       },
       "data": [
        {
         "name": "optimal cash installments",
         "type": "scatter",
         "y": [
          0,
          82.95077728447917,
          83.88630900688858,
          83.16737424019469,
          81.5115779572466,
          78.32004686403711,
          72.3012801340863,
          63.277324191617915,
          52.80760747420589,
          76.8424172418326
         ]
        },
        {
         "name": "expected portfolio value",
         "type": "scatter",
         "y": [
          1000,
          1086.4872312283237,
          1194.1228805035046,
          1288.6295785135292,
          1402.5242293575564,
          1486.1955295177913,
          1636.169359598638,
          1734.5734519732243,
          1823.0916133906812,
          1912.7590247269688
         ]
        },
        {
         "name": "realized target portfolio",
         "type": "scatter",
         "y": [
          1500,
          1629.7308468424856,
          1791.184320755257,
          1932.9443677702939,
          2103.7863440363344,
          2229.293294276687,
          2454.254039397957,
          2601.8601779598366,
          2734.637420086022,
          2869.138537090453
         ]
        }
       ],
       "layout": {
        "template": {
         "data": {
          "bar": [
           {
            "error_x": {
             "color": "#2a3f5f"
            },
            "error_y": {
             "color": "#2a3f5f"
            },
            "marker": {
             "line": {
              "color": "#E5ECF6",
              "width": 0.5
             },
             "pattern": {
              "fillmode": "overlay",
              "size": 10,
              "solidity": 0.2
             }
            },
            "type": "bar"
           }
          ],
          "barpolar": [
           {
            "marker": {
             "line": {
              "color": "#E5ECF6",
              "width": 0.5
             },
             "pattern": {
              "fillmode": "overlay",
              "size": 10,
              "solidity": 0.2
             }
            },
            "type": "barpolar"
           }
          ],
          "carpet": [
           {
            "aaxis": {
             "endlinecolor": "#2a3f5f",
             "gridcolor": "white",
             "linecolor": "white",
             "minorgridcolor": "white",
             "startlinecolor": "#2a3f5f"
            },
            "baxis": {
             "endlinecolor": "#2a3f5f",
             "gridcolor": "white",
             "linecolor": "white",
             "minorgridcolor": "white",
             "startlinecolor": "#2a3f5f"
            },
            "type": "carpet"
           }
          ],
          "choropleth": [
           {
            "colorbar": {
             "outlinewidth": 0,
             "ticks": ""
            },
            "type": "choropleth"
           }
          ],
          "contour": [
           {
            "colorbar": {
             "outlinewidth": 0,
             "ticks": ""
            },
            "colorscale": [
             [
              0,
              "#0d0887"
             ],
             [
              0.1111111111111111,
              "#46039f"
             ],
             [
              0.2222222222222222,
              "#7201a8"
             ],
             [
              0.3333333333333333,
              "#9c179e"
             ],
             [
              0.4444444444444444,
              "#bd3786"
             ],
             [
              0.5555555555555556,
              "#d8576b"
             ],
             [
              0.6666666666666666,
              "#ed7953"
             ],
             [
              0.7777777777777778,
              "#fb9f3a"
             ],
             [
              0.8888888888888888,
              "#fdca26"
             ],
             [
              1,
              "#f0f921"
             ]
            ],
            "type": "contour"
           }
          ],
          "contourcarpet": [
           {
            "colorbar": {
             "outlinewidth": 0,
             "ticks": ""
            },
            "type": "contourcarpet"
           }
          ],
          "heatmap": [
           {
            "colorbar": {
             "outlinewidth": 0,
             "ticks": ""
            },
            "colorscale": [
             [
              0,
              "#0d0887"
             ],
             [
              0.1111111111111111,
              "#46039f"
             ],
             [
              0.2222222222222222,
              "#7201a8"
             ],
             [
              0.3333333333333333,
              "#9c179e"
             ],
             [
              0.4444444444444444,
              "#bd3786"
             ],
             [
              0.5555555555555556,
              "#d8576b"
             ],
             [
              0.6666666666666666,
              "#ed7953"
             ],
             [
              0.7777777777777778,
              "#fb9f3a"
             ],
             [
              0.8888888888888888,
              "#fdca26"
             ],
             [
              1,
              "#f0f921"
             ]
            ],
            "type": "heatmap"
           }
          ],
          "heatmapgl": [
           {
            "colorbar": {
             "outlinewidth": 0,
             "ticks": ""
            },
            "colorscale": [
             [
              0,
              "#0d0887"
             ],
             [
              0.1111111111111111,
              "#46039f"
             ],
             [
              0.2222222222222222,
              "#7201a8"
             ],
             [
              0.3333333333333333,
              "#9c179e"
             ],
             [
              0.4444444444444444,
              "#bd3786"
             ],
             [
              0.5555555555555556,
              "#d8576b"
             ],
             [
              0.6666666666666666,
              "#ed7953"
             ],
             [
              0.7777777777777778,
              "#fb9f3a"
             ],
             [
              0.8888888888888888,
              "#fdca26"
             ],
             [
              1,
              "#f0f921"
             ]
            ],
            "type": "heatmapgl"
           }
          ],
          "histogram": [
           {
            "marker": {
             "pattern": {
              "fillmode": "overlay",
              "size": 10,
              "solidity": 0.2
             }
            },
            "type": "histogram"
           }
          ],
          "histogram2d": [
           {
            "colorbar": {
             "outlinewidth": 0,
             "ticks": ""
            },
            "colorscale": [
             [
              0,
              "#0d0887"
             ],
             [
              0.1111111111111111,
              "#46039f"
             ],
             [
              0.2222222222222222,
              "#7201a8"
             ],
             [
              0.3333333333333333,
              "#9c179e"
             ],
             [
              0.4444444444444444,
              "#bd3786"
             ],
             [
              0.5555555555555556,
              "#d8576b"
             ],
             [
              0.6666666666666666,
              "#ed7953"
             ],
             [
              0.7777777777777778,
              "#fb9f3a"
             ],
             [
              0.8888888888888888,
              "#fdca26"
             ],
             [
              1,
              "#f0f921"
             ]
            ],
            "type": "histogram2d"
           }
          ],
          "histogram2dcontour": [
           {
            "colorbar": {
             "outlinewidth": 0,
             "ticks": ""
            },
            "colorscale": [
             [
              0,
              "#0d0887"
             ],
             [
              0.1111111111111111,
              "#46039f"
             ],
             [
              0.2222222222222222,
              "#7201a8"
             ],
             [
              0.3333333333333333,
              "#9c179e"
             ],
             [
              0.4444444444444444,
              "#bd3786"
             ],
             [
              0.5555555555555556,
              "#d8576b"
             ],
             [
              0.6666666666666666,
              "#ed7953"
             ],
             [
              0.7777777777777778,
              "#fb9f3a"
             ],
             [
              0.8888888888888888,
              "#fdca26"
             ],
             [
              1,
              "#f0f921"
             ]
            ],
            "type": "histogram2dcontour"
           }
          ],
          "mesh3d": [
           {
            "colorbar": {
             "outlinewidth": 0,
             "ticks": ""
            },
            "type": "mesh3d"
           }
          ],
          "parcoords": [
           {
            "line": {
             "colorbar": {
              "outlinewidth": 0,
              "ticks": ""
             }
            },
            "type": "parcoords"
           }
          ],
          "pie": [
           {
            "automargin": true,
            "type": "pie"
           }
          ],
          "scatter": [
           {
            "marker": {
             "colorbar": {
              "outlinewidth": 0,
              "ticks": ""
             }
            },
            "type": "scatter"
           }
          ],
          "scatter3d": [
           {
            "line": {
             "colorbar": {
              "outlinewidth": 0,
              "ticks": ""
             }
            },
            "marker": {
             "colorbar": {
              "outlinewidth": 0,
              "ticks": ""
             }
            },
            "type": "scatter3d"
           }
          ],
          "scattercarpet": [
           {
            "marker": {
             "colorbar": {
              "outlinewidth": 0,
              "ticks": ""
             }
            },
            "type": "scattercarpet"
           }
          ],
          "scattergeo": [
           {
            "marker": {
             "colorbar": {
              "outlinewidth": 0,
              "ticks": ""
             }
            },
            "type": "scattergeo"
           }
          ],
          "scattergl": [
           {
            "marker": {
             "colorbar": {
              "outlinewidth": 0,
              "ticks": ""
             }
            },
            "type": "scattergl"
           }
          ],
          "scattermapbox": [
           {
            "marker": {
             "colorbar": {
              "outlinewidth": 0,
              "ticks": ""
             }
            },
            "type": "scattermapbox"
           }
          ],
          "scatterpolar": [
           {
            "marker": {
             "colorbar": {
              "outlinewidth": 0,
              "ticks": ""
             }
            },
            "type": "scatterpolar"
           }
          ],
          "scatterpolargl": [
           {
            "marker": {
             "colorbar": {
              "outlinewidth": 0,
              "ticks": ""
             }
            },
            "type": "scatterpolargl"
           }
          ],
          "scatterternary": [
           {
            "marker": {
             "colorbar": {
              "outlinewidth": 0,
              "ticks": ""
             }
            },
            "type": "scatterternary"
           }
          ],
          "surface": [
           {
            "colorbar": {
             "outlinewidth": 0,
             "ticks": ""
            },
            "colorscale": [
             [
              0,
              "#0d0887"
             ],
             [
              0.1111111111111111,
              "#46039f"
             ],
             [
              0.2222222222222222,
              "#7201a8"
             ],
             [
              0.3333333333333333,
              "#9c179e"
             ],
             [
              0.4444444444444444,
              "#bd3786"
             ],
             [
              0.5555555555555556,
              "#d8576b"
             ],
             [
              0.6666666666666666,
              "#ed7953"
             ],
             [
              0.7777777777777778,
              "#fb9f3a"
             ],
             [
              0.8888888888888888,
              "#fdca26"
             ],
             [
              1,
              "#f0f921"
             ]
            ],
            "type": "surface"
           }
          ],
          "table": [
           {
            "cells": {
             "fill": {
              "color": "#EBF0F8"
             },
             "line": {
              "color": "white"
             }
            },
            "header": {
             "fill": {
              "color": "#C8D4E3"
             },
             "line": {
              "color": "white"
             }
            },
            "type": "table"
           }
          ]
         },
         "layout": {
          "annotationdefaults": {
           "arrowcolor": "#2a3f5f",
           "arrowhead": 0,
           "arrowwidth": 1
          },
          "autotypenumbers": "strict",
          "coloraxis": {
           "colorbar": {
            "outlinewidth": 0,
            "ticks": ""
           }
          },
          "colorscale": {
           "diverging": [
            [
             0,
             "#8e0152"
            ],
            [
             0.1,
             "#c51b7d"
            ],
            [
             0.2,
             "#de77ae"
            ],
            [
             0.3,
             "#f1b6da"
            ],
            [
             0.4,
             "#fde0ef"
            ],
            [
             0.5,
             "#f7f7f7"
            ],
            [
             0.6,
             "#e6f5d0"
            ],
            [
             0.7,
             "#b8e186"
            ],
            [
             0.8,
             "#7fbc41"
            ],
            [
             0.9,
             "#4d9221"
            ],
            [
             1,
             "#276419"
            ]
           ],
           "sequential": [
            [
             0,
             "#0d0887"
            ],
            [
             0.1111111111111111,
             "#46039f"
            ],
            [
             0.2222222222222222,
             "#7201a8"
            ],
            [
             0.3333333333333333,
             "#9c179e"
            ],
            [
             0.4444444444444444,
             "#bd3786"
            ],
            [
             0.5555555555555556,
             "#d8576b"
            ],
            [
             0.6666666666666666,
             "#ed7953"
            ],
            [
             0.7777777777777778,
             "#fb9f3a"
            ],
            [
             0.8888888888888888,
             "#fdca26"
            ],
            [
             1,
             "#f0f921"
            ]
           ],
           "sequentialminus": [
            [
             0,
             "#0d0887"
            ],
            [
             0.1111111111111111,
             "#46039f"
            ],
            [
             0.2222222222222222,
             "#7201a8"
            ],
            [
             0.3333333333333333,
             "#9c179e"
            ],
            [
             0.4444444444444444,
             "#bd3786"
            ],
            [
             0.5555555555555556,
             "#d8576b"
            ],
            [
             0.6666666666666666,
             "#ed7953"
            ],
            [
             0.7777777777777778,
             "#fb9f3a"
            ],
            [
             0.8888888888888888,
             "#fdca26"
            ],
            [
             1,
             "#f0f921"
            ]
           ]
          },
          "colorway": [
           "#636efa",
           "#EF553B",
           "#00cc96",
           "#ab63fa",
           "#FFA15A",
           "#19d3f3",
           "#FF6692",
           "#B6E880",
           "#FF97FF",
           "#FECB52"
          ],
          "font": {
           "color": "#2a3f5f"
          },
          "geo": {
           "bgcolor": "white",
           "lakecolor": "white",
           "landcolor": "#E5ECF6",
           "showlakes": true,
           "showland": true,
           "subunitcolor": "white"
          },
          "hoverlabel": {
           "align": "left"
          },
          "hovermode": "closest",
          "mapbox": {
           "style": "light"
          },
          "paper_bgcolor": "white",
          "plot_bgcolor": "#E5ECF6",
          "polar": {
           "angularaxis": {
            "gridcolor": "white",
            "linecolor": "white",
            "ticks": ""
           },
           "bgcolor": "#E5ECF6",
           "radialaxis": {
            "gridcolor": "white",
            "linecolor": "white",
            "ticks": ""
           }
          },
          "scene": {
           "xaxis": {
            "backgroundcolor": "#E5ECF6",
            "gridcolor": "white",
            "gridwidth": 2,
            "linecolor": "white",
            "showbackground": true,
            "ticks": "",
            "zerolinecolor": "white"
           },
           "yaxis": {
            "backgroundcolor": "#E5ECF6",
            "gridcolor": "white",
            "gridwidth": 2,
            "linecolor": "white",
            "showbackground": true,
            "ticks": "",
            "zerolinecolor": "white"
           },
           "zaxis": {
            "backgroundcolor": "#E5ECF6",
            "gridcolor": "white",
            "gridwidth": 2,
            "linecolor": "white",
            "showbackground": true,
            "ticks": "",
            "zerolinecolor": "white"
           }
          },
          "shapedefaults": {
           "line": {
            "color": "#2a3f5f"
           }
          },
          "ternary": {
           "aaxis": {
            "gridcolor": "white",
            "linecolor": "white",
            "ticks": ""
           },
           "baxis": {
            "gridcolor": "white",
            "linecolor": "white",
            "ticks": ""
           },
           "bgcolor": "#E5ECF6",
           "caxis": {
            "gridcolor": "white",
            "linecolor": "white",
            "ticks": ""
           }
          },
          "title": {
           "x": 0.05
          },
          "xaxis": {
           "automargin": true,
           "gridcolor": "white",
           "linecolor": "white",
           "ticks": "",
           "title": {
            "standoff": 15
           },
           "zerolinecolor": "white",
           "zerolinewidth": 2
          },
          "yaxis": {
           "automargin": true,
           "gridcolor": "white",
           "linecolor": "white",
           "ticks": "",
           "title": {
            "standoff": 15
           },
           "zerolinecolor": "white",
           "zerolinewidth": 2
          }
         }
        },
        "title": {
         "text": "Realized rewards"
        },
        "xaxis": {
         "title": {
          "text": "Time Steps"
         }
        },
        "yaxis": {
         "title": {
          "text": "Realized rewards"
         }
        }
       }
      }
     },
     "metadata": {}
    }
   ],
   "metadata": {}
  },
  {
   "cell_type": "markdown",
   "source": [
    "Show the histogram of cumulative rewards"
   ],
   "metadata": {}
  },
  {
   "cell_type": "code",
   "execution_count": 182,
   "source": [
    "import plotly.express as px \r\n",
    "\r\n",
    "fig = px.histogram(realized_cum_rewards.detach().numpy(), nbins=20)\r\n",
    "fig.show()"
   ],
   "outputs": [
    {
     "output_type": "display_data",
     "data": {
      "application/vnd.plotly.v1+json": {
       "config": {
        "plotlyServerURL": "https://plot.ly"
       },
       "data": [
        {
         "alignmentgroup": "True",
         "bingroup": "x",
         "hovertemplate": "variable=0<br>value=%{x}<br>count=%{y}<extra></extra>",
         "legendgroup": "0",
         "marker": {
          "color": "#636efa",
          "pattern": {
           "shape": ""
          }
         },
         "name": "0",
         "nbinsx": 20,
         "offsetgroup": "0",
         "orientation": "v",
         "showlegend": true,
         "type": "histogram",
         "x": [
          -6020.389323406158,
          -6061.966175135114,
          -5982.185710981578,
          -6058.589883839202,
          -6024.131751520679,
          -6016.916436430263,
          -6025.275282112481,
          -5988.037052454869,
          -5956.146280439169,
          -5978.288943851121,
          -6017.084333661805,
          -5987.715385542216,
          -6059.650067289403,
          -6056.325110913357,
          -6068.206497438139,
          -6043.512978617264,
          -6024.558702731808,
          -6042.904517105611,
          -5987.224979414126,
          -5966.308269387409,
          -6001.8784913924665,
          -6030.808052048679,
          -5953.306047364113,
          -6065.766395083223,
          -6066.47434521652,
          -6038.129286356244,
          -6015.7779247468925,
          -6047.128687469854,
          -6029.522106134382,
          -6043.828874050556,
          -6067.139703551229,
          -6082.198105261228,
          -6026.86034729106,
          -6085.78753487044,
          -5982.36004259443,
          -6033.047189572855,
          -5968.872736668038,
          -6021.931552440861,
          -6051.555494319726,
          -6023.160748545748,
          -6005.643493779237,
          -6022.209603531398,
          -6026.627080102957,
          -5990.447364927355,
          -6053.89993200131,
          -6016.071058102432,
          -6010.09908874553,
          -6027.994537158712,
          -6030.045942187093,
          -5971.832075083457,
          -6016.454484738865,
          -6009.379734892006,
          -6008.416152165914,
          -6043.480171126628,
          -5972.106375889417,
          -6052.771480133091,
          -6030.660435197653,
          -6035.638496325399,
          -6009.830564718197,
          -5998.531140208965,
          -6071.767717748919,
          -6057.7041050374755,
          -6036.445870821756,
          -6028.536007690034,
          -6010.809689645754,
          -5984.843374929345,
          -5978.202942184709,
          -5974.1496509432,
          -6011.155631674157,
          -6031.711478543879,
          -6017.3996561124995,
          -5990.794594912648,
          -6036.512571896303,
          -6020.190425315777,
          -6033.689593298497,
          -6034.535587757326,
          -6026.615373461851,
          -5990.580200458621,
          -5984.207738063688,
          -5990.946912827175,
          -6049.411422821507,
          -5984.833888469237,
          -6012.452236724777,
          -5994.045840356562,
          -6044.952718097808,
          -6018.299615998219,
          -6058.117308585139,
          -6007.411180202259,
          -6005.839602290038,
          -6034.945614567709,
          -6052.573315362388,
          -6080.626350622319,
          -6016.011239788527,
          -5961.36165955994,
          -6030.865206107357,
          -6055.272702841894,
          -6043.914516701629,
          -6038.942000153792,
          -6064.273964618109,
          -6026.094554313933,
          -6036.507439217574,
          -6051.14716870972,
          -6003.465615687632,
          -6016.672145216195,
          -5997.694018400667,
          -6028.4693003303,
          -6031.803301011947,
          -5995.653078920187,
          -5986.486194235826,
          -6032.258443171572,
          -6019.495777505878,
          -6070.852137476915,
          -6073.572533955212,
          -6012.842826239175,
          -6036.20865200325,
          -5989.764782325552,
          -6038.950280029561,
          -5962.270720527917,
          -5997.919614979334,
          -6060.672851035544,
          -6034.398198655128,
          -6022.444682670994,
          -5997.43772795197,
          -6029.965518898751,
          -6012.4048386099,
          -6008.652808358498,
          -5991.217150287087,
          -6058.737471018976,
          -6021.171146754791,
          -5993.214787831541,
          -6052.043447887188,
          -6038.776125800979,
          -6033.99412655494,
          -6051.0618934099075,
          -6060.046759867999,
          -6008.956254817856,
          -5993.703412538349,
          -6028.932820273448,
          -5960.459280308058,
          -5984.893022512254,
          -6007.803484397567,
          -6013.564682089989,
          -6059.68204748288,
          -6017.834487600054,
          -5986.157050368591,
          -6022.397912056747,
          -5971.077163640579,
          -6037.689493616037,
          -6006.492230179589,
          -6027.071039374546,
          -6053.577374927954,
          -6033.093159221109,
          -6032.078059942768,
          -6005.399050469676,
          -6019.819701148683,
          -6014.070442437744,
          -6007.970548185445,
          -5988.669346530998,
          -6010.747442555858,
          -5983.434873848225,
          -6023.984965475408,
          -6103.201027255292,
          -6025.655923910132,
          -6013.260872667961,
          -6018.641151958317,
          -6050.114063775479,
          -6028.4208277547405,
          -6045.477115122683,
          -6028.645662425248,
          -6003.335785631499,
          -6067.587459067153,
          -6037.013587138845,
          -6057.658744397437,
          -6025.427955186697,
          -6001.30697964563,
          -5948.482166113824,
          -6042.506431784732,
          -6063.766819522872,
          -6059.000457486834,
          -6041.239235827734,
          -6010.82417769319,
          -6000.8314397845825,
          -5973.118690223057,
          -6016.770276873896,
          -6030.028745727355,
          -5952.61663471591,
          -5985.932266677703,
          -5979.3963782997325,
          -6021.666597930762,
          -5986.781566917009,
          -6052.376116148907,
          -5992.575037981471,
          -6029.819076641479,
          -6085.571405065682,
          -6000.899413033478,
          -6069.9867678846795,
          -6020.327121648634,
          -6061.004065896457,
          -6007.959577245023,
          -5996.725010697934,
          -6062.229608216291,
          -6026.880782077378,
          -6010.116335328257,
          -6028.6454680005045,
          -6016.315152451152,
          -5971.160026904588,
          -6029.139329758668,
          -6021.8857406699935,
          -6079.692350279946,
          -6003.614138368515,
          -6035.947829567005,
          -6011.022176308372,
          -6022.078636540414,
          -6052.20527316074,
          -6016.439314998151,
          -6040.492707159403,
          -6063.790151516283,
          -6064.1686082949045,
          -6017.83826403641,
          -5992.354976037883,
          -6041.471261354521,
          -5977.206667694332,
          -5961.711427745842,
          -6039.655954672138,
          -6004.2920012023715,
          -6068.843832501843,
          -5978.557938737399,
          -5989.986561933574,
          -6039.716140554505,
          -6043.068056671906,
          -5963.9906405360325,
          -6040.949726323993,
          -6042.653925669461,
          -6004.41963726508,
          -6030.43746514782,
          -6040.119948336187,
          -5999.4323891769,
          -5989.98188217879,
          -6040.016556608509,
          -6006.4039733145455,
          -6056.957291289521,
          -6009.59861864021,
          -5991.460398822492,
          -6000.261789135868,
          -6077.839109131433,
          -6030.370486855923,
          -6043.222058674004,
          -6034.982929895003,
          -6021.496162199204,
          -5985.3613438773555,
          -6010.461036060382,
          -6060.722260176841,
          -6062.320019782818,
          -6017.85962555806,
          -5987.028484750928,
          -6086.857802121685,
          -6043.683708279431,
          -6014.60687133373,
          -6061.834752721576,
          -5996.016932928115,
          -5987.559739254144,
          -5994.935810287255,
          -5960.457408748203,
          -5949.619149132001,
          -6035.499063674131,
          -6000.72221555882,
          -5992.4276908288575,
          -5979.062550138297,
          -6005.684050811988,
          -6045.220995664389,
          -6038.961365121085,
          -6009.185871024181,
          -6068.301062548093,
          -6067.219545730628,
          -6099.620531763765,
          -6037.8558150522,
          -6035.867072809651,
          -6064.853139120974,
          -6034.157637268763,
          -6014.317324134483,
          -6020.781212578659,
          -6006.260497929749,
          -6047.340144712178,
          -6015.052557007792,
          -6021.808792719381,
          -5991.31448286858,
          -5994.752759280242,
          -6023.502947430227,
          -6035.62077948775,
          -5996.585711060942,
          -6009.076210671188,
          -6049.266472611924,
          -6018.708797724452,
          -6071.319440067675,
          -5998.6266420839665,
          -6031.145134622795,
          -6015.163702387939,
          -6037.419561181801,
          -6009.39144475727,
          -6025.46495929149,
          -5966.938837220076,
          -6023.701325562266,
          -6021.463953389146,
          -5988.215100881889,
          -6027.325558563005,
          -5984.648893081387,
          -6015.795562365187,
          -6061.672371078666,
          -6004.263410715779,
          -5995.761572800451,
          -5981.570099968434,
          -6022.800426860074,
          -5999.1286887837105,
          -6019.946773010306,
          -6020.386614119479,
          -6037.534010281999,
          -6012.395232547431,
          -6016.654576210065,
          -6025.595237466558,
          -6037.298689690668,
          -6004.966986102756,
          -6042.508545525937,
          -6051.660733846646,
          -5991.70169090304,
          -6011.57086913628,
          -6015.775223383924,
          -6047.726781669482,
          -6061.123492057118,
          -6018.207308134942,
          -6036.7812819468645,
          -6012.132593566587,
          -6045.814710742784,
          -6049.450549369228,
          -6055.654284287317,
          -6047.856360702148,
          -6026.6370340301455,
          -6024.0205065313,
          -6021.794614954239,
          -5993.991623402502,
          -6054.839757429581,
          -6063.4252306670405,
          -6033.555913011402,
          -6027.68069432448,
          -5988.439806957428,
          -5986.83443698298,
          -6038.788230125931,
          -5989.836308905675,
          -6026.450434649791,
          -6032.946237183767,
          -6018.840900166183,
          -5985.821297311494,
          -6025.18773905019,
          -6001.75338891452,
          -5998.848223113398,
          -6022.641440634093,
          -6051.356619742564,
          -5981.990099414918,
          -6006.609367696753,
          -5989.836171277748,
          -6087.360773539973,
          -6044.610668894353,
          -6000.003096094377,
          -6017.990471758889,
          -6081.919378476112,
          -6024.107968687003,
          -6055.1230997774055,
          -6016.348234827134,
          -6047.144252784554,
          -6040.939128203139,
          -6043.8448893972545,
          -6055.123191998128,
          -6036.297132983149,
          -6078.958614108958,
          -6029.925937879048,
          -6030.807220598314,
          -6042.597326798004,
          -6030.962565373204,
          -6019.083156567767,
          -6045.595596192914,
          -6097.087605608824,
          -6025.292815011641,
          -6008.5188909591225,
          -5994.249364238787,
          -6006.169881051297,
          -6020.320493013696,
          -6037.859307428715,
          -5987.499489113994,
          -6017.058512727417,
          -6044.215248578461,
          -5970.087472599995,
          -6047.501940237306,
          -6033.017637109968,
          -6039.827115513162,
          -6061.946629241898,
          -6030.327022156509,
          -5973.231113929276,
          -6012.860427440888,
          -6012.476879705757,
          -6045.189582560421,
          -6029.981737346459,
          -6015.744596401959,
          -5998.16120630053,
          -6018.9122653862705,
          -6000.352073055529,
          -6022.090030561847,
          -5982.585392036582,
          -6017.587346144963,
          -6031.8635865974775,
          -5996.180328787625,
          -6051.454401575424,
          -6001.136987031582,
          -6030.540575072957,
          -6055.927124782185,
          -6063.880737652904,
          -6029.1330350617845,
          -6006.541379620341,
          -6053.737016153699,
          -6023.589744759993,
          -6053.161950118354,
          -6047.216594692705,
          -6009.3602087419,
          -5987.255089159809,
          -6031.0720084465465,
          -6005.321704892587,
          -6078.6155612148705,
          -6051.215686439831,
          -6053.860111042897,
          -5993.692973577739,
          -5969.95797943647,
          -6029.040271196911,
          -5998.458640067248,
          -6007.426881019777,
          -6059.101580990104,
          -6044.84514427117,
          -6015.910578743279,
          -6044.457029127308,
          -6066.709064865527,
          -6014.976609893367,
          -6032.154493679536,
          -6072.235015108585,
          -5982.408194649308,
          -6058.024203976696,
          -6017.564849849119,
          -6042.60041958488,
          -6066.435835934468,
          -6020.190013824433,
          -5990.0628495123965,
          -6011.468970051361,
          -6024.953344422894,
          -5973.708566832158,
          -6045.035992860918,
          -6052.8213227401775,
          -6017.808174139962,
          -5984.222018564313,
          -6048.809950093251,
          -6001.742827787328,
          -6071.296438174791,
          -6032.535355523871,
          -5963.6257807601805,
          -6026.74882585627,
          -6041.743734645701,
          -5988.857065651364,
          -6051.444636802743,
          -6063.719341362705,
          -5989.370815430399,
          -6031.482363312209,
          -6046.450516518245,
          -6022.026342217699,
          -6054.635362818059,
          -6006.02114745248,
          -5977.12401483895,
          -6023.034515649842,
          -6038.373942261471,
          -6041.475675978687,
          -6028.068595831435,
          -6021.507462785439,
          -6054.547642884845,
          -5977.98388104511,
          -5993.507620493654,
          -6031.303536458774,
          -6008.98034496609,
          -6068.310550681107,
          -6031.627055562289,
          -6058.773850447951,
          -6038.8434235159675,
          -6016.034287773509,
          -6015.88121959123,
          -6033.475391615891,
          -6032.916851497122,
          -6061.516342389499,
          -5994.5538586298435,
          -6010.988910185757,
          -6016.21886456762,
          -6002.483499543328,
          -6052.514055283274,
          -6037.392246563606,
          -6006.297736947397,
          -6062.428480765174,
          -5979.534906420398,
          -6021.691874226435,
          -6029.468211672744,
          -6053.123856271921,
          -6038.818616291552,
          -6050.252656201195,
          -6016.396248788518,
          -6021.689235781274,
          -6033.766071569715,
          -6002.97282492078,
          -6067.084740378319,
          -6033.166287814662,
          -6053.386432492289,
          -6043.63883068259,
          -6003.023602526195,
          -6003.7682733887705,
          -5987.94624935015,
          -5968.919341054281,
          -6051.100505847244,
          -6017.509214077085,
          -6042.034320643239,
          -6051.3626377374985,
          -6035.743054043784,
          -6037.102573476441,
          -6049.659136385563,
          -6074.51660444853,
          -5977.791915334374,
          -6009.266919056694,
          -6019.854843059802,
          -5985.259681101332,
          -6007.331453559039,
          -5971.849246547275,
          -6003.441727910082,
          -6046.39972149418,
          -5980.395830358668,
          -6035.959064086789,
          -6021.2491509715555,
          -6036.781512002131,
          -6052.8835540865,
          -6038.717651331629,
          -6000.97330396237,
          -6063.501470658235,
          -6032.242959994538,
          -5988.232625021928,
          -6069.369512198749,
          -6038.6629739653345,
          -5985.51722980188,
          -6031.183691467457,
          -6072.570237569178,
          -6045.040815428278,
          -6005.330063464982,
          -5989.602093216723,
          -5998.32935143822,
          -5998.640766675104,
          -6060.819210314974,
          -6031.9468325417765,
          -6041.67333157699,
          -6039.272718016153,
          -6002.143260185709,
          -6029.413222234003,
          -6052.187619947555,
          -6026.433013845592,
          -6049.899904267097,
          -5998.102420266664,
          -6008.434168441048,
          -6022.259981083951,
          -6056.106116952187,
          -6015.539361448857,
          -6031.176507651318,
          -6014.9577250020175,
          -5981.571076550098,
          -6001.467261196946,
          -5993.9305661803,
          -6024.286947154979,
          -6054.703932138518,
          -6067.618146255712,
          -6013.5010891576785,
          -6029.221425474797,
          -5996.671330490783,
          -6032.619966527616,
          -6018.2311038725165,
          -6042.165528788297,
          -6033.6309584588,
          -6059.3475911189,
          -6071.85349799517,
          -6039.388416336664,
          -6030.3447977761425,
          -6014.338713333534,
          -6050.5302015673315,
          -6017.015521528834,
          -6028.257307052995,
          -6007.940518408845,
          -6032.076588765554,
          -6012.584177464462,
          -6001.203183629017,
          -5971.37673116435,
          -6036.748421974795,
          -6015.1889772703,
          -6009.752910410863,
          -6061.721694940445,
          -6037.595216711368,
          -6038.029576430118,
          -6013.893717733147,
          -5986.364696751209,
          -6021.251742287675,
          -6034.836581880831,
          -6019.870157415556,
          -6024.999584552472,
          -5938.742410008266,
          -5982.196854704043,
          -6049.092628052829,
          -6012.592228366682,
          -6000.109801006508,
          -6058.934165677717,
          -6037.597943705973,
          -6035.662527838236,
          -6008.573938973851,
          -5972.764236973961,
          -5962.457613896364,
          -6102.399079393067,
          -6030.415399586693,
          -6062.4454107450565,
          -6014.824204114857,
          -6040.682333240653,
          -5996.80151974076,
          -6025.173443903571,
          -6023.907428787032,
          -6009.00999601785,
          -6023.637353799908,
          -6005.95884429511,
          -6037.2417034082255,
          -6005.957436347141,
          -6045.473656985161,
          -6016.296792920717,
          -6010.959229660179,
          -6058.74090407533,
          -6082.426622292583,
          -6054.262779737287,
          -5987.3987858705505,
          -5993.19012637911,
          -6044.646983473991,
          -5997.763994117442,
          -6059.167864247533,
          -6053.083074991324,
          -6019.38593474528,
          -5993.599224599232,
          -6032.088795462101,
          -6002.314804651172,
          -6044.147111245151,
          -6002.848884911054,
          -5996.390353628781,
          -6058.118331774052,
          -5989.137579762479,
          -6062.491806558946,
          -6002.495999434965,
          -6015.824373667852,
          -5996.206246114787,
          -6010.500106293148,
          -6007.667640435956,
          -6067.629014382439,
          -5989.468746819779,
          -6087.054022399289,
          -6027.0322789672555,
          -5955.276447929673,
          -6082.89644585689,
          -6043.314639352198,
          -6000.576166814471,
          -6036.368909265818,
          -6023.98437676207,
          -6013.822502881743,
          -5982.561200441091,
          -5961.447254460053,
          -6071.397879266295,
          -6070.9435161354995,
          -6076.4803903998,
          -6069.461649057319,
          -5976.009861164075,
          -5987.603394056846,
          -6020.732120705915,
          -6069.92097615957,
          -6003.798970534466,
          -6002.502663875433,
          -5981.566337723154,
          -6057.498310746634,
          -6008.857902732014,
          -5987.772963256402,
          -6044.494119683725,
          -5999.534356934088,
          -6036.427976438962,
          -6102.910629867499,
          -6078.205065118319,
          -6032.207873906364,
          -6024.854747647856,
          -6006.112372910407,
          -5974.299709073832,
          -6019.395222929193,
          -6010.040407840002,
          -6020.76652913321,
          -6001.44802920252,
          -6039.353300632649,
          -5997.614742414045,
          -6022.456398738035,
          -6003.235993227034,
          -5991.263183897439,
          -6038.871868364937,
          -6006.959508020536,
          -6093.780991419435,
          -6017.969665424546,
          -5943.380691168051,
          -6037.726535001048,
          -6084.348242736663,
          -6016.134178535745,
          -5991.679726399945,
          -6006.571663664106,
          -6006.063841043688,
          -6007.675224573657,
          -6041.410259781567,
          -5996.808195860611,
          -6032.732952470635,
          -6052.970007962913,
          -5992.547331866992,
          -6021.239876239139,
          -6040.625985427534,
          -6025.302689522632,
          -6089.077183219562,
          -6050.311702242966,
          -6014.236131341079,
          -6007.801061299355,
          -6032.426115109988,
          -6014.541464701886,
          -6060.032021097854,
          -6053.26930284063,
          -5979.862175144253,
          -6042.740801549602,
          -6019.025771144138,
          -5995.751813033646,
          -6008.215391778703,
          -6035.507731908078,
          -6015.139865486353,
          -6021.082014287009,
          -6039.038257056979,
          -5986.9247291793135,
          -5980.457137460976,
          -6063.73664732177,
          -6013.397693538263,
          -6057.267121263479,
          -6033.143799928477,
          -6026.900510182832,
          -5977.490188614112,
          -6004.84699807419,
          -6001.301952950753,
          -5995.8312971045325,
          -6046.664225580634,
          -6005.358341527253,
          -6065.657171082881,
          -6033.093773168932,
          -6032.146717660503,
          -6055.782333862891,
          -6049.358440755961,
          -6027.244478946597,
          -6051.75286114341,
          -6060.3383145324415,
          -6044.3862760560205,
          -6007.683569244476,
          -6043.212926808623,
          -6021.409932501236,
          -6081.543008026364,
          -5964.230343228284,
          -6048.826214946503,
          -6046.827749370686,
          -6017.823658779547,
          -5997.678229669253,
          -5974.221301978407,
          -5983.342484911194,
          -6045.524443317817,
          -6014.205741169263,
          -6049.352297625708,
          -5996.9247703357905,
          -6023.484513283294,
          -6040.024437834103,
          -6023.115935130158,
          -6043.918229368941,
          -6025.900616213633,
          -5987.468237150137,
          -5973.664015196175,
          -6038.038606579921,
          -6070.858954856689,
          -6036.102450770819,
          -6069.84351354586,
          -6012.106628382515,
          -6035.61073690167,
          -6063.430531690792,
          -5989.192384718008,
          -6032.996108253565,
          -6016.252008557901,
          -6029.8082834943525,
          -6026.605449999632,
          -5959.795681385428,
          -6071.897548386854,
          -6010.7602132940265,
          -6027.036095400943,
          -6083.629682413108,
          -5986.038810417904,
          -6072.52367105889,
          -6135.4277062430665,
          -5983.193768846174,
          -6005.543184972753,
          -6021.012935758156,
          -6019.192376566069,
          -6021.604664924932,
          -6027.130496552912,
          -6000.255235854747,
          -6055.6350077883835,
          -5989.636058266631,
          -6042.286199927341,
          -5981.393704654849,
          -6016.678471731989,
          -6018.428804878726,
          -6020.838508190105,
          -5983.527207183821,
          -6022.861026782025,
          -6017.149366934296,
          -6040.124849567079,
          -6044.254236993813,
          -5991.8871021599,
          -6029.411234740905,
          -6039.496991958333,
          -6026.019003368954,
          -5989.114171937565,
          -6023.800255947235,
          -6066.995828335693,
          -6068.943956824412,
          -6007.059975672348,
          -6010.459721285124,
          -5994.8560407914665,
          -6008.887982884569,
          -6046.495488868186,
          -6064.598274830794,
          -6020.940588956089,
          -6030.794578787061,
          -6019.515638078372,
          -6046.287609783295,
          -6057.814286527158,
          -6054.205574471398,
          -6000.8089502912035,
          -6035.76210320214,
          -6011.027063169249,
          -5987.750582474827,
          -6041.907135129442,
          -6010.809772906368,
          -6013.292317394183,
          -6101.689024093648,
          -6039.288359893411,
          -6029.792799062456,
          -6096.484950142004,
          -6055.841955825299,
          -6056.47480273522,
          -6027.868425484528,
          -5981.00421607098,
          -6038.432412547177,
          -6036.269733469421,
          -6032.175496336129,
          -6034.503461167482,
          -6005.114355784832,
          -6008.552276340341,
          -5989.278510842198,
          -6006.816800139504,
          -6088.983856766186,
          -5966.884389484418,
          -5993.711317090475,
          -6007.742954849867,
          -6043.286755713982,
          -6067.855180493937,
          -6059.421499834444,
          -6047.764436041869,
          -6052.335926295691,
          -6038.041204938367,
          -6033.093441189323,
          -6033.93811410152,
          -6039.909458667795,
          -6069.758403419777,
          -5972.513048486181,
          -6050.616138979344,
          -6021.381504215553,
          -5987.95837893949,
          -5978.217535565966,
          -6059.547528495221,
          -6057.442667057809,
          -6005.653430636324,
          -6002.668480600607,
          -6005.196784065357,
          -6075.847997524431,
          -6076.33305808143,
          -5984.415993308663,
          -5991.689120660359,
          -6019.278742369261,
          -6054.8418160713245,
          -6080.456506195572,
          -5985.995942221389,
          -6030.098359430489,
          -5976.756256128996,
          -6009.853320633592,
          -6036.342958485228,
          -6033.784556425674,
          -5997.600700429231,
          -6006.350336806881,
          -6009.5305553958115,
          -6045.106704196317,
          -5990.474195336864,
          -6030.1195948871145,
          -6035.312077350536,
          -6008.805036283238,
          -6038.576285059285,
          -6109.2930579182685,
          -6019.104760727841,
          -5958.013060351238,
          -6026.073461790228,
          -6009.340317609669,
          -5999.091851304693,
          -5976.890388366699,
          -6000.139082076107,
          -5977.278662876795,
          -6023.031927983284,
          -6009.6330824719935,
          -6067.656478420222,
          -6057.298663621634,
          -5936.046713538213,
          -5975.959946963731,
          -6025.563063037063,
          -6030.716620241447,
          -6005.2046205695715,
          -5971.951581536136,
          -6005.758005421325,
          -5998.102745563368,
          -6075.929804770051,
          -6001.199489578483,
          -5986.593373591143,
          -5995.1947603604385,
          -6058.266384506181,
          -6025.882202185956,
          -6087.039694651986,
          -6063.439910818472,
          -5979.955355301782,
          -5966.000011066251,
          -6051.646506263669,
          -6020.920364717,
          -6076.447139260536,
          -6054.624368237906,
          -6029.737529351438,
          -5983.668227768482,
          -6078.171572284111,
          -5989.039291618091,
          -6018.891560567476,
          -6072.278920298073,
          -6018.86733001341,
          -6037.9885033420205,
          -6064.7860647375,
          -6010.377330173618,
          -6089.893602224911,
          -6020.767570434569,
          -6016.657062995195,
          -5984.535133184278,
          -6063.347605497012,
          -6000.866143137673,
          -5974.624271152728,
          -6035.370874685718,
          -5960.014977265908,
          -6021.130216789964,
          -5976.29372926895,
          -6062.870109740952,
          -6034.019119091856,
          -6043.6140893929105,
          -5951.412375223133,
          -6033.212898084622,
          -6042.715262038542,
          -6008.227785710276,
          -6014.847549931761,
          -6043.56364516957,
          -6023.238004298359,
          -6064.331526973617,
          -6000.50476850298,
          -5954.60575260959,
          -6032.65407739037,
          -6024.688397249625,
          -6003.39371350096,
          -6052.817413703885,
          -6027.46777136724,
          -5941.731966777079,
          -6014.166134847688,
          -6027.528042988059,
          -6037.991754906141,
          -5970.588305405033,
          -5974.212349651165,
          -6059.693620489621,
          -6056.88882029261,
          -6030.857065672349,
          -6018.851393883819,
          -5998.244341529004,
          -6020.828278409228,
          -6055.541657184755,
          -6012.06837260902,
          -6055.0952908305535
         ],
         "xaxis": "x",
         "yaxis": "y"
        }
       ],
       "layout": {
        "barmode": "relative",
        "legend": {
         "title": {
          "text": "variable"
         },
         "tracegroupgap": 0
        },
        "margin": {
         "t": 60
        },
        "template": {
         "data": {
          "bar": [
           {
            "error_x": {
             "color": "#2a3f5f"
            },
            "error_y": {
             "color": "#2a3f5f"
            },
            "marker": {
             "line": {
              "color": "#E5ECF6",
              "width": 0.5
             },
             "pattern": {
              "fillmode": "overlay",
              "size": 10,
              "solidity": 0.2
             }
            },
            "type": "bar"
           }
          ],
          "barpolar": [
           {
            "marker": {
             "line": {
              "color": "#E5ECF6",
              "width": 0.5
             },
             "pattern": {
              "fillmode": "overlay",
              "size": 10,
              "solidity": 0.2
             }
            },
            "type": "barpolar"
           }
          ],
          "carpet": [
           {
            "aaxis": {
             "endlinecolor": "#2a3f5f",
             "gridcolor": "white",
             "linecolor": "white",
             "minorgridcolor": "white",
             "startlinecolor": "#2a3f5f"
            },
            "baxis": {
             "endlinecolor": "#2a3f5f",
             "gridcolor": "white",
             "linecolor": "white",
             "minorgridcolor": "white",
             "startlinecolor": "#2a3f5f"
            },
            "type": "carpet"
           }
          ],
          "choropleth": [
           {
            "colorbar": {
             "outlinewidth": 0,
             "ticks": ""
            },
            "type": "choropleth"
           }
          ],
          "contour": [
           {
            "colorbar": {
             "outlinewidth": 0,
             "ticks": ""
            },
            "colorscale": [
             [
              0,
              "#0d0887"
             ],
             [
              0.1111111111111111,
              "#46039f"
             ],
             [
              0.2222222222222222,
              "#7201a8"
             ],
             [
              0.3333333333333333,
              "#9c179e"
             ],
             [
              0.4444444444444444,
              "#bd3786"
             ],
             [
              0.5555555555555556,
              "#d8576b"
             ],
             [
              0.6666666666666666,
              "#ed7953"
             ],
             [
              0.7777777777777778,
              "#fb9f3a"
             ],
             [
              0.8888888888888888,
              "#fdca26"
             ],
             [
              1,
              "#f0f921"
             ]
            ],
            "type": "contour"
           }
          ],
          "contourcarpet": [
           {
            "colorbar": {
             "outlinewidth": 0,
             "ticks": ""
            },
            "type": "contourcarpet"
           }
          ],
          "heatmap": [
           {
            "colorbar": {
             "outlinewidth": 0,
             "ticks": ""
            },
            "colorscale": [
             [
              0,
              "#0d0887"
             ],
             [
              0.1111111111111111,
              "#46039f"
             ],
             [
              0.2222222222222222,
              "#7201a8"
             ],
             [
              0.3333333333333333,
              "#9c179e"
             ],
             [
              0.4444444444444444,
              "#bd3786"
             ],
             [
              0.5555555555555556,
              "#d8576b"
             ],
             [
              0.6666666666666666,
              "#ed7953"
             ],
             [
              0.7777777777777778,
              "#fb9f3a"
             ],
             [
              0.8888888888888888,
              "#fdca26"
             ],
             [
              1,
              "#f0f921"
             ]
            ],
            "type": "heatmap"
           }
          ],
          "heatmapgl": [
           {
            "colorbar": {
             "outlinewidth": 0,
             "ticks": ""
            },
            "colorscale": [
             [
              0,
              "#0d0887"
             ],
             [
              0.1111111111111111,
              "#46039f"
             ],
             [
              0.2222222222222222,
              "#7201a8"
             ],
             [
              0.3333333333333333,
              "#9c179e"
             ],
             [
              0.4444444444444444,
              "#bd3786"
             ],
             [
              0.5555555555555556,
              "#d8576b"
             ],
             [
              0.6666666666666666,
              "#ed7953"
             ],
             [
              0.7777777777777778,
              "#fb9f3a"
             ],
             [
              0.8888888888888888,
              "#fdca26"
             ],
             [
              1,
              "#f0f921"
             ]
            ],
            "type": "heatmapgl"
           }
          ],
          "histogram": [
           {
            "marker": {
             "pattern": {
              "fillmode": "overlay",
              "size": 10,
              "solidity": 0.2
             }
            },
            "type": "histogram"
           }
          ],
          "histogram2d": [
           {
            "colorbar": {
             "outlinewidth": 0,
             "ticks": ""
            },
            "colorscale": [
             [
              0,
              "#0d0887"
             ],
             [
              0.1111111111111111,
              "#46039f"
             ],
             [
              0.2222222222222222,
              "#7201a8"
             ],
             [
              0.3333333333333333,
              "#9c179e"
             ],
             [
              0.4444444444444444,
              "#bd3786"
             ],
             [
              0.5555555555555556,
              "#d8576b"
             ],
             [
              0.6666666666666666,
              "#ed7953"
             ],
             [
              0.7777777777777778,
              "#fb9f3a"
             ],
             [
              0.8888888888888888,
              "#fdca26"
             ],
             [
              1,
              "#f0f921"
             ]
            ],
            "type": "histogram2d"
           }
          ],
          "histogram2dcontour": [
           {
            "colorbar": {
             "outlinewidth": 0,
             "ticks": ""
            },
            "colorscale": [
             [
              0,
              "#0d0887"
             ],
             [
              0.1111111111111111,
              "#46039f"
             ],
             [
              0.2222222222222222,
              "#7201a8"
             ],
             [
              0.3333333333333333,
              "#9c179e"
             ],
             [
              0.4444444444444444,
              "#bd3786"
             ],
             [
              0.5555555555555556,
              "#d8576b"
             ],
             [
              0.6666666666666666,
              "#ed7953"
             ],
             [
              0.7777777777777778,
              "#fb9f3a"
             ],
             [
              0.8888888888888888,
              "#fdca26"
             ],
             [
              1,
              "#f0f921"
             ]
            ],
            "type": "histogram2dcontour"
           }
          ],
          "mesh3d": [
           {
            "colorbar": {
             "outlinewidth": 0,
             "ticks": ""
            },
            "type": "mesh3d"
           }
          ],
          "parcoords": [
           {
            "line": {
             "colorbar": {
              "outlinewidth": 0,
              "ticks": ""
             }
            },
            "type": "parcoords"
           }
          ],
          "pie": [
           {
            "automargin": true,
            "type": "pie"
           }
          ],
          "scatter": [
           {
            "marker": {
             "colorbar": {
              "outlinewidth": 0,
              "ticks": ""
             }
            },
            "type": "scatter"
           }
          ],
          "scatter3d": [
           {
            "line": {
             "colorbar": {
              "outlinewidth": 0,
              "ticks": ""
             }
            },
            "marker": {
             "colorbar": {
              "outlinewidth": 0,
              "ticks": ""
             }
            },
            "type": "scatter3d"
           }
          ],
          "scattercarpet": [
           {
            "marker": {
             "colorbar": {
              "outlinewidth": 0,
              "ticks": ""
             }
            },
            "type": "scattercarpet"
           }
          ],
          "scattergeo": [
           {
            "marker": {
             "colorbar": {
              "outlinewidth": 0,
              "ticks": ""
             }
            },
            "type": "scattergeo"
           }
          ],
          "scattergl": [
           {
            "marker": {
             "colorbar": {
              "outlinewidth": 0,
              "ticks": ""
             }
            },
            "type": "scattergl"
           }
          ],
          "scattermapbox": [
           {
            "marker": {
             "colorbar": {
              "outlinewidth": 0,
              "ticks": ""
             }
            },
            "type": "scattermapbox"
           }
          ],
          "scatterpolar": [
           {
            "marker": {
             "colorbar": {
              "outlinewidth": 0,
              "ticks": ""
             }
            },
            "type": "scatterpolar"
           }
          ],
          "scatterpolargl": [
           {
            "marker": {
             "colorbar": {
              "outlinewidth": 0,
              "ticks": ""
             }
            },
            "type": "scatterpolargl"
           }
          ],
          "scatterternary": [
           {
            "marker": {
             "colorbar": {
              "outlinewidth": 0,
              "ticks": ""
             }
            },
            "type": "scatterternary"
           }
          ],
          "surface": [
           {
            "colorbar": {
             "outlinewidth": 0,
             "ticks": ""
            },
            "colorscale": [
             [
              0,
              "#0d0887"
             ],
             [
              0.1111111111111111,
              "#46039f"
             ],
             [
              0.2222222222222222,
              "#7201a8"
             ],
             [
              0.3333333333333333,
              "#9c179e"
             ],
             [
              0.4444444444444444,
              "#bd3786"
             ],
             [
              0.5555555555555556,
              "#d8576b"
             ],
             [
              0.6666666666666666,
              "#ed7953"
             ],
             [
              0.7777777777777778,
              "#fb9f3a"
             ],
             [
              0.8888888888888888,
              "#fdca26"
             ],
             [
              1,
              "#f0f921"
             ]
            ],
            "type": "surface"
           }
          ],
          "table": [
           {
            "cells": {
             "fill": {
              "color": "#EBF0F8"
             },
             "line": {
              "color": "white"
             }
            },
            "header": {
             "fill": {
              "color": "#C8D4E3"
             },
             "line": {
              "color": "white"
             }
            },
            "type": "table"
           }
          ]
         },
         "layout": {
          "annotationdefaults": {
           "arrowcolor": "#2a3f5f",
           "arrowhead": 0,
           "arrowwidth": 1
          },
          "autotypenumbers": "strict",
          "coloraxis": {
           "colorbar": {
            "outlinewidth": 0,
            "ticks": ""
           }
          },
          "colorscale": {
           "diverging": [
            [
             0,
             "#8e0152"
            ],
            [
             0.1,
             "#c51b7d"
            ],
            [
             0.2,
             "#de77ae"
            ],
            [
             0.3,
             "#f1b6da"
            ],
            [
             0.4,
             "#fde0ef"
            ],
            [
             0.5,
             "#f7f7f7"
            ],
            [
             0.6,
             "#e6f5d0"
            ],
            [
             0.7,
             "#b8e186"
            ],
            [
             0.8,
             "#7fbc41"
            ],
            [
             0.9,
             "#4d9221"
            ],
            [
             1,
             "#276419"
            ]
           ],
           "sequential": [
            [
             0,
             "#0d0887"
            ],
            [
             0.1111111111111111,
             "#46039f"
            ],
            [
             0.2222222222222222,
             "#7201a8"
            ],
            [
             0.3333333333333333,
             "#9c179e"
            ],
            [
             0.4444444444444444,
             "#bd3786"
            ],
            [
             0.5555555555555556,
             "#d8576b"
            ],
            [
             0.6666666666666666,
             "#ed7953"
            ],
            [
             0.7777777777777778,
             "#fb9f3a"
            ],
            [
             0.8888888888888888,
             "#fdca26"
            ],
            [
             1,
             "#f0f921"
            ]
           ],
           "sequentialminus": [
            [
             0,
             "#0d0887"
            ],
            [
             0.1111111111111111,
             "#46039f"
            ],
            [
             0.2222222222222222,
             "#7201a8"
            ],
            [
             0.3333333333333333,
             "#9c179e"
            ],
            [
             0.4444444444444444,
             "#bd3786"
            ],
            [
             0.5555555555555556,
             "#d8576b"
            ],
            [
             0.6666666666666666,
             "#ed7953"
            ],
            [
             0.7777777777777778,
             "#fb9f3a"
            ],
            [
             0.8888888888888888,
             "#fdca26"
            ],
            [
             1,
             "#f0f921"
            ]
           ]
          },
          "colorway": [
           "#636efa",
           "#EF553B",
           "#00cc96",
           "#ab63fa",
           "#FFA15A",
           "#19d3f3",
           "#FF6692",
           "#B6E880",
           "#FF97FF",
           "#FECB52"
          ],
          "font": {
           "color": "#2a3f5f"
          },
          "geo": {
           "bgcolor": "white",
           "lakecolor": "white",
           "landcolor": "#E5ECF6",
           "showlakes": true,
           "showland": true,
           "subunitcolor": "white"
          },
          "hoverlabel": {
           "align": "left"
          },
          "hovermode": "closest",
          "mapbox": {
           "style": "light"
          },
          "paper_bgcolor": "white",
          "plot_bgcolor": "#E5ECF6",
          "polar": {
           "angularaxis": {
            "gridcolor": "white",
            "linecolor": "white",
            "ticks": ""
           },
           "bgcolor": "#E5ECF6",
           "radialaxis": {
            "gridcolor": "white",
            "linecolor": "white",
            "ticks": ""
           }
          },
          "scene": {
           "xaxis": {
            "backgroundcolor": "#E5ECF6",
            "gridcolor": "white",
            "gridwidth": 2,
            "linecolor": "white",
            "showbackground": true,
            "ticks": "",
            "zerolinecolor": "white"
           },
           "yaxis": {
            "backgroundcolor": "#E5ECF6",
            "gridcolor": "white",
            "gridwidth": 2,
            "linecolor": "white",
            "showbackground": true,
            "ticks": "",
            "zerolinecolor": "white"
           },
           "zaxis": {
            "backgroundcolor": "#E5ECF6",
            "gridcolor": "white",
            "gridwidth": 2,
            "linecolor": "white",
            "showbackground": true,
            "ticks": "",
            "zerolinecolor": "white"
           }
          },
          "shapedefaults": {
           "line": {
            "color": "#2a3f5f"
           }
          },
          "ternary": {
           "aaxis": {
            "gridcolor": "white",
            "linecolor": "white",
            "ticks": ""
           },
           "baxis": {
            "gridcolor": "white",
            "linecolor": "white",
            "ticks": ""
           },
           "bgcolor": "#E5ECF6",
           "caxis": {
            "gridcolor": "white",
            "linecolor": "white",
            "ticks": ""
           }
          },
          "title": {
           "x": 0.05
          },
          "xaxis": {
           "automargin": true,
           "gridcolor": "white",
           "linecolor": "white",
           "ticks": "",
           "title": {
            "standoff": 15
           },
           "zerolinecolor": "white",
           "zerolinewidth": 2
          },
          "yaxis": {
           "automargin": true,
           "gridcolor": "white",
           "linecolor": "white",
           "ticks": "",
           "title": {
            "standoff": 15
           },
           "zerolinecolor": "white",
           "zerolinewidth": 2
          }
         }
        },
        "xaxis": {
         "anchor": "y",
         "domain": [
          0,
          1
         ],
         "title": {
          "text": "value"
         }
        },
        "yaxis": {
         "anchor": "x",
         "domain": [
          0,
          1
         ],
         "title": {
          "text": "count"
         }
        }
       }
      }
     },
     "metadata": {}
    }
   ],
   "metadata": {
    "colab": {
     "base_uri": "https://localhost:8080/",
     "height": 439
    },
    "colab_type": "code",
    "id": "LDVVOMCLNvM1",
    "outputId": "4d64768d-98f0-4c1b-d597-179aac815f6d"
   }
  }
 ],
 "metadata": {
  "celltoolbar": "Edit Metadata",
  "colab": {
   "collapsed_sections": [],
   "include_colab_link": true,
   "machine_shape": "hm",
   "name": "Wealth_Management_GIRL.ipynb",
   "provenance": []
  },
  "interpreter": {
   "hash": "798f2da8499baa6f4f5a7cbb1bba35562b729535235625b9498f9fba6d602b99"
  },
  "kernelspec": {
   "display_name": "Python 3",
   "language": "python",
   "name": "python3"
  },
  "language_info": {
   "codemirror_mode": {
    "name": "ipython",
    "version": 3
   },
   "file_extension": ".py",
   "mimetype": "text/x-python",
   "name": "python",
   "nbconvert_exporter": "python",
   "pygments_lexer": "ipython3",
   "version": "3.6.10"
  }
 },
 "nbformat": 4,
 "nbformat_minor": 1
}