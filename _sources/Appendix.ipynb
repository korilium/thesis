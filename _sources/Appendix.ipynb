{
 "cells": [
  {
   "cell_type": "markdown",
   "source": [
    "# Appendix "
   ],
   "metadata": {}
  },
  {
   "cell_type": "markdown",
   "source": [
    "## pseudocode algorithms  "
   ],
   "metadata": {}
  },
  {
   "cell_type": "markdown",
   "source": [
    "\r\n",
    "```{figure} C:/Users/ignac/Documents/GitHub/thesis/notebook/images/policy_iteration.png\r\n",
    "---\r\n",
    "height: 300px\r\n",
    "width: 400px\r\n",
    "name: policy_iteration-fig\r\n",
    "---\r\n",
    "algorithm for the policy iteration   \r\n",
    "```"
   ],
   "metadata": {}
  },
  {
   "cell_type": "markdown",
   "source": [
    "\r\n",
    "```{figure} C:/Users/ignac/Documents/GitHub/thesis/notebook/images/value_iteration.png\r\n",
    "---\r\n",
    "height: 250px\r\n",
    "width: 400px\r\n",
    "name: value_iteration-fig\r\n",
    "---\r\n",
    "algorithm for the value iteration   \r\n",
    "```"
   ],
   "metadata": {}
  },
  {
   "cell_type": "markdown",
   "source": [
    "\r\n",
    "```{figure} C:/Users/ignac/Documents/GitHub/thesis/notebook/images/MC_method_on-policy.png\r\n",
    "---\r\n",
    "height: 300px\r\n",
    "width: 400px\r\n",
    "name: MC_iteration-fig\r\n",
    "---\r\n",
    "algorithm for MC method on-policy   \r\n",
    "```"
   ],
   "metadata": {}
  },
  {
   "cell_type": "markdown",
   "source": [
    "\r\n",
    "```{figure} C:/Users/ignac/Documents/GitHub/thesis/notebook2/images/TD.png\r\n",
    "---\r\n",
    "height: 250px\r\n",
    "width: 500px\r\n",
    "name: TD-fig\r\n",
    "---\r\n",
    "algorithm for TD(0) \r\n",
    "```"
   ],
   "metadata": {}
  },
  {
   "cell_type": "markdown",
   "source": [
    "```{bibliography}\r\n",
    "```"
   ],
   "metadata": {}
  }
 ],
 "metadata": {
  "kernelspec": {
   "display_name": "Python 3",
   "language": "python",
   "name": "python3"
  },
  "language_info": {
   "codemirror_mode": {
    "name": "ipython",
    "version": 3
   },
   "file_extension": ".py",
   "mimetype": "text/x-python",
   "name": "python",
   "nbconvert_exporter": "python",
   "pygments_lexer": "ipython3",
   "version": "3.9.5"
  }
 },
 "nbformat": 4,
 "nbformat_minor": 2
}